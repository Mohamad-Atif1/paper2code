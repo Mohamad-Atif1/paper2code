{
  "nbformat": 4,
  "nbformat_minor": 0,
  "metadata": {
    "colab": {
      "provenance": [],
      "collapsed_sections": [
        "-W5hA9R0YuNV",
        "3TTIG3BWY0NW",
        "gOn9a1sLZGXx",
        "Hay5tQfPZH_L"
      ],
      "gpuType": "T4"
    },
    "kernelspec": {
      "name": "python3",
      "display_name": "Python 3"
    },
    "language_info": {
      "name": "python"
    },
    "accelerator": "GPU"
  },
  "cells": [
    {
      "cell_type": "markdown",
      "source": [
        "**Vector-Quantized Variational Autoencoder (VQ-VAE)**\n",
        "\n",
        "<img src=\"https://drive.google.com/uc?id=1yU3x4R2kBQCxUmUy2NzYjhQhRBi2ljpb\" width=\"1000\"/>\n",
        "\n",
        "original paper: [Neural Discrete Representation Learning (2017)](https://arxiv.org/abs/1711.00937)\n",
        "\n",
        "notebook explained & made by: [**Anas Aldadi**](https://github.com/AnasKAN)\n",
        "\n",
        "[open on colab](https://colab.research.google.com/drive/1TzwFDzmmQD9uTG1aYrB09yTcY3_9SDaQ?usp=sharing)"
      ],
      "metadata": {
        "id": "lmqHxNH4VLWj"
      }
    },
    {
      "cell_type": "markdown",
      "source": [
        "---\n",
        "\n",
        "VQ-VAEs simply put have a discrete latent space in other words it means the encoder output discrete codes (removing the property of having infinite possible latent vectors) unlike VAEs which have continuous latent space, and the prior is learnt rather than being static.\n",
        "\n",
        "But Why? and how would we achieve that?\n",
        "\n",
        "For the why, VQ-VAE came to solve the issue of \"posterior collapse\" which VAEs with powerful decoders suffer from, the decoder simply ignore the latents (the changes in latent space doesn't influence the generation).\n",
        "\n",
        "Not only that, it is the first archeticture that offers discrete latent space, and utilize the latent space better than previous discretizing attempts, because it provides similar results to the continuous counterpart.\n",
        "\n",
        "a direct qoutation from the paper on the contributions of this archeticture:\n",
        "\n",
        "<img src=\"https://drive.google.com/uc?id=1Qg7gZtXihRLSEJ5DB0U46OD4McYgKNlQ\" width=\"1000\"/>"
      ],
      "metadata": {
        "id": "MP_0q84mVeqZ"
      }
    },
    {
      "cell_type": "markdown",
      "source": [
        "---\n",
        "\n",
        "**Approach**\n",
        "\n",
        "I'll explain each component in details in this section:\n",
        "\n",
        "<img src=\"https://drive.google.com/uc?id=1gwzB-59J5YG5Bsr0Ktae0xHqOuCMuJMt\" width=\"1000\"/>\n",
        "\n",
        "Figure 3: The whole archeticture.\n",
        "\n",
        "As the figure illustrates the archeticture consists of 3 trainable components namely the encoder, the decoder and the codebook.\n",
        "\n",
        "<img src=\"https://drive.google.com/uc?id=1xP1HJBx4h71Il4xzrDXUS0-rorN_G2Hb\" width=\"700\"/>\n",
        "\n",
        "Figure 4: The encoder\n",
        "\n",
        "The encoder takes the image let's say 64,64,3 and compress it into a latent continuous space let's say 4,4,64.\n",
        "\n",
        "The encoder can be built using Conv layers, MLP layers, RNN layers, or Transformer layers it really up to you.\n",
        "\n",
        "<img src=\"https://drive.google.com/uc?id=18-WPL_rVPPsu8md61OeCYGLJb0blSTtq\" width=\"700\"/>\n",
        "\n",
        "Figure 5: The Vector Quantizer\n",
        "\n",
        "The codebook is defined with two parameters the dimension of the latent space $D$ (which is exactly the number of kernels/filters in the last encoder layer), and the number of latent vectors/codewords $K$, each codebook in literature is written with notation $e_K$.\n",
        "\n",
        "Codebooks are essentially set of multiple learnable latent vectors, this way we discretize the latent space instead of having continuous latent vectors that can have any value, now we force the model to choose only one set that is the closest to $Z_e(x)$ using any distance measuring equation.\n",
        "\n",
        "This chosen codeword (might be $e_1$, $e_2$, ..., $e_K$) becomes the quantized latent $Z_q(x)$.\n",
        "\n",
        "So, $Z_q(x)$ $=$ $e_K$ where $K$ $=$ $argmin_j{\\|Z_e-e_j\\|_2}$. we literally just copy the chosen codeword and give it to the decoder.\n",
        "\n",
        "As you might have noticed! there is no random sampling!! that's one of the key differences between VAEs and VQVAEs.\n",
        "\n",
        "while VAEs have gaussian $q_\\phi(Z|x)$, VQVAEs have deterministic $q_\\phi(Z|x)$.\n",
        "\n",
        "<img src=\"https://drive.google.com/uc?id=1R2R4FvYdYVdSdQO8xl0BXnL4c-bZVsjv\" width=\"700\"/>\n",
        "\n",
        "Figure 6: The Vector Quantizer\n",
        "\n",
        "This begs the question how will we deal with this deterministic sampling when VAEs are probabilistic archeticture natively?\n",
        "\n",
        "In VAEs since the prior is gaussain it biases the latent posterior so it will also be gaussian due to the KL divergence term encourage it to be so.\n",
        "\n",
        "VQVAEs instead uses categorical distribution $q(e_K|X)$, and since the procedure of choosing a codeword index $K$ is deterministic (neighrest neighbor) so that means the posterior will have a probability of 1 for the category that is chosen:\n",
        "\n",
        "$q(Z_q = e_K|X)$ $=$ $\\begin{cases} 1 & \\text{for } K = \\underset{j}{\\operatorname{argmin}} \\|Z_e - e_j\\|_2 \\\\ 0 & \\text{otherwise} \\end{cases}$\n",
        "\n",
        "What about the prior? during training we don't want our model to bias the model into the indices it chooses. So the prior is just a uniform categorical distribution, with each indices having $p(Z_q=e_K) = 1/K$ where $K$ is the codebook size.\n",
        "\n",
        "The KL Divergence loss will look from:\n",
        "\n",
        "$D_KL(P(X)\\|Q(X)) = \\Sigma_x P(X) log(\\frac{P(X)}{Q(X)})$\n",
        "\n",
        "simplified to:\n",
        "\n",
        "$D_KL(q(Z_q|X)\\|p(Z_q)) = \\Sigma_x q(Z_q|X) log(\\frac{q(Z_q|X)}{p(Z_q)})$ $=$ $log(\\frac{1}{\\frac{1}{K}})$ $=$ $log(K)$\n",
        "\n",
        "because remember posterior is one at chosen $K$ and prior is $\\frac{1}{K}$ at $K$\n",
        "\n",
        "Although in theory we assume fixed prior but after training we might find the joint distribution of codewords across our dataset is not a uniform distribution, why is that? There is a true prior that is learnt during training. For example we might find that for a certain data (let's say a pic of bird) when sampling (neighrest neighbor) codebooks to build the quantized vectors for location 4 let's say $Z_q4$ condition the distribution of $Z_q2$ so $p(Z_q4|Z_q2) \\not = p(Z_q4)$ and we stray from this distribution we will generate something other than a bird.\n",
        "\n",
        "This is like in language modelling how some words depend on previous words, here some codewords depend on previous codewords.\n",
        "\n",
        "Although the model learnt some true prior, the problem is we don't know what it is.\n",
        "\n",
        "How to mitigate this issue? use secondary autoregressive model to learn the appropriate probability distribution over codewords.\n",
        "\n",
        "In a nutshell, the prior distribution in VAEs $p_\\theta(z)$ is predefined, in VQVAEs we have a true prior distribution that is learnt implicitly during training!\n",
        "\n",
        "<img src=\"https://drive.google.com/uc?id=1N7W3KBoyrExJsplsw_uQ_wVVYPNsHWKi\" width=\"700\"/>\n",
        "\n",
        "Figure 7: The Decoder\n",
        "\n",
        "It takes the discrete latent and generate $y$. (idk its as simple as this).\n",
        "\n",
        "Now after decoding we goes to compute the loss function, and as we saw before the loss function doesn't have KL divergence.\n",
        "but we do have recon term in form of negative log likelihood, and the full form of the loss is dependent on all 3 components of the archeticture (to ensure every component learn correctly justly and its just a beautiful sensible loss).\n",
        "\n",
        "Notice there is no expectation over the posterior bec its deterministic. \\\\\n",
        "$L(\\theta,\\phi, C; x, Z_q) = - log(p_\\phi(x|Z_q)) + ...$ \\\\\n",
        "`________________________^ reconstruction term` it optimizes $\\theta, \\phi$ \\\\\n",
        "The encoder parameterized by $\\phi$ \\\\\n",
        "The decoder parameterized by $\\theta$ \\\\\n",
        "The codebook parameterized by $C$ \\\\\n",
        "\n",
        "If you might have guessed already, the quantization step is not differentiable. To solve this dilemma we gonna directly copy the gradients $\\nabla L$ from $Z_q$ to $Z_e$. We simply passed the gradients *Straight-through* the quantization layer (and this is why this trick is called Straight-through estimation).\n",
        "\n",
        "Straight-through estimation:\n",
        "\n",
        "$\\frac{\\partial \\nabla L}{\\partial Z_e}$ $=$ $\\frac{\\partial \\nabla L}{\\partial Z_q}$\n",
        "\n",
        "This would only make since if $Z_e \\approx Z_q$ and that's why neighrest neighbor make since.\n",
        "\n",
        "Althought this solves the issue of passing the gradients to the encoder and now it can learn, but the codebooks (which are randomly initialized) are not getting any gradients and this will limit the ability to control the generation if codebooks remain static.\n",
        "\n",
        "So in order to optimize codebooks we have to introduce the second loss term:\n",
        "\n",
        "$L(\\theta,\\phi, C; x, Z_q) = ... + \\|sg[Z_e(x)]-e\\|^2_2 + ...$ \\\\\n",
        "`________________________^ codebook loss` it optimizes $C$  \\\\\n",
        "\n",
        "Simply penalizes each codeword vector $e$ based on the squared distance from its associated encoding vector $Z_e(x)$\n",
        "\n",
        "Notice $sg$ (stop gradient) operator, it just set the gradient of anything inside it to zero. In our case its the gradients of encoding vectors, so it doesn't provide any gradient signal to the encoder (the encoder doesn't benfit from this term).\n",
        "\n",
        "Stopping here will lead to some problems:\n",
        "\n",
        "1. Fluctuations between code vectors:\n",
        "    This happens when the encoder trains more quickly than the codebook, they lead to instability and inefficient codebook utilization (redundent codewords)\n",
        "\n",
        "2. Arbitrary growth of encoding $Z_e$\n",
        "    Reconstruction loss might encorage higher values of $Z_e$ leading to also growth of some codeword $e$ which leads to instability and since the codebook loss doesn't affect the encoder, it doesn't encourage the $Z_e$ to have values closer to codewords.\n",
        "\n",
        "Third term came to rescue. Commitment loss \\\\\n",
        "$L(\\theta,\\phi, C; x, Z_q) = ... + ... + \\|Z_e(x)-sg[e]\\|^2_2$ \\\\\n",
        "`____________________________^ commitment loss` it optimizes $\\phi$ \\\\\n",
        "\n",
        "it looks like the codebook loss $\\|sg[Z_e(x)]-e\\|^2_2$ but the stop gradient operator on a different location.\n",
        "\n",
        "Great [source](https://youtu.be/yQvELPjmyn0?si=3RupDuLG_yB67fGa) to understand the math.\n",
        "\n",
        "<img src=\"https://drive.google.com/uc?id=1RjJcnIUxzIWw0HMpqmmWXdJzEWSy3xi8\" width=\"1000\"/>\n",
        "\n",
        "Figure 8 [source](https://paperswithcode.com/method/vq-vae)\n",
        "\n",
        "---\n",
        "\n",
        "**Conclusion**\n",
        "\n",
        "As shown in the figure above the archeticture has 3 main components, which are:\n",
        "\n",
        "-   ```\n",
        "    Encoder: the same encoder we all know and love, I'll add residuals to match\n",
        "    the paper description. (this will output the same continuous latent space)\n",
        "    ```\n",
        "Note: This continuous latent is denoted as $z_e$\n",
        "\n",
        "-   ```\n",
        "    The middle part is \"Vector Quantizer Layer\" (Codebook space): simply it is\n",
        "    a set of randomly initialized vectors that we will train and hope each one\n",
        "    resemble a set of group in the data. And we will measure the L2 euclidean\n",
        "    distance (or any method to measure distance) between codebooks and the\n",
        "    continuous latent outputted from the encoder.\n",
        "    ```\n",
        "    -   Codebook: The VQ layer maintains a learnable \"codebook\" or \"embedding space\" which is a matrix of K discrete embedding vectors, each of dimension D (where D is num_filters from the encoder output). Each $e_i$ in the codebook is a vector in $R^D$.\n",
        "\n",
        "    -   Quantization Process: For each vector in the encoder's output ($z_e$), the VQ layer finds the closest embedding vector $e_j$ in the codebook using a distance metric, typically Euclidean distance (L2-normalized distance). The encoder's output is then replaced by this closest codebook vector. This effectively \"quantizes\" the continuous representation into a discrete index.\n",
        "\n",
        "    Note: This discrete latent is denoted as $z_q$ in the figure\n",
        "\n",
        "    -   Straight-Through Estimator: A crucial aspect of VQ-VAE is handling the non-differentiability of the argmin operation (finding the closest vector). To allow gradients to flow back to the encoder, a \"straight-through estimator\" is used. This means that during the backward pass, *the gradients from the decoder are directly copied to the encoder's output*, bypassing the quantization step. The intuition is that since the encoder's output and the decoder's input share the same dimensional space, the gradients still provide useful information for the encoder to adjust its output.\n",
        "\n",
        "\n",
        "-   ```\n",
        "    Decoder: will take the codebook (or quantized discrete latent\n",
        "    representation) that has been chosen by the L2 euclidean distance\n",
        "    and generate that.\n",
        "    ```"
      ],
      "metadata": {
        "id": "_n2fcPT7qFQa"
      }
    },
    {
      "cell_type": "code",
      "execution_count": null,
      "metadata": {
        "id": "2A_dGDJkaN1O",
        "cellView": "form"
      },
      "outputs": [],
      "source": [
        "#@title Reqs\n",
        "import torch\n",
        "import torch.nn as nn\n",
        "import torch.nn.functional as F\n",
        "from torch.utils.data import DataLoader\n",
        "import torch.optim as optim\n",
        "\n",
        "from torchvision import datasets, transforms\n",
        "\n",
        "from IPython.display import Image as IPImage, display\n",
        "from PIL import Image\n",
        "from sklearn.metrics import confusion_matrix, classification_report\n",
        "import seaborn as sns\n",
        "import matplotlib.pyplot as plt\n",
        "import numpy as np\n",
        "import os"
      ]
    },
    {
      "cell_type": "markdown",
      "source": [
        "### Helpers"
      ],
      "metadata": {
        "id": "-W5hA9R0YuNV"
      }
    },
    {
      "cell_type": "code",
      "source": [
        "def calc_conv2d_output_dim(input_size, kernel_size, stride, padding, dilation=1):\n",
        "    \"\"\"\n",
        "    Calculate the output height or width of a 2D convolution layer.\n",
        "\n",
        "    Parameters:\n",
        "    - input_size (int): Size of input height or width\n",
        "    - kernel_size (int): Size of the convolution kernel\n",
        "    - stride (int): Stride of the convolution\n",
        "    - padding (int): Padding added to the input\n",
        "    - dilation (int): Dilation rate (default is 1)\n",
        "\n",
        "    Returns:\n",
        "    - int: Output dimension (height or width)\n",
        "    \"\"\"\n",
        "    return ((input_size + 2 * padding - dilation * (kernel_size - 1) - 1) // stride) + 1\n",
        "\n",
        "def calc_transpose_conv2d_output_dim(input_size, kernel_size, stride, padding, output_padding=0):\n",
        "    \"\"\"\n",
        "    Calculate the output height or width of a 2D transposed convolution layer.\n",
        "\n",
        "    Parameters:\n",
        "    - input_size (int): Size of input height or width\n",
        "    - kernel_size (int): Size of the convolution kernel\n",
        "    - stride (int): Stride of the convolution\n",
        "    - padding (int): Padding added to the input\n",
        "    - output_padding (int): Additional size added to one side of the output (default 0)\n",
        "\n",
        "    Returns:\n",
        "    - int: Output dimension (height or width)\n",
        "    \"\"\"\n",
        "    return (input_size - 1) * stride - 2 * padding + kernel_size + output_padding"
      ],
      "metadata": {
        "id": "ve3qm2hOhR-s"
      },
      "execution_count": null,
      "outputs": []
    },
    {
      "cell_type": "code",
      "source": [
        "def save_img_grid(img_tensors, nrows, filename):\n",
        "    \"\"\"\n",
        "    Save a grid of image tensors in [0, 1] range as <filename>.jpg\n",
        "    \"\"\"\n",
        "    img_tensors = img_tensors.clamp(0, 1).permute(0, 2, 3, 1).cpu().numpy()\n",
        "    img_tensors = (img_tensors * 255).astype(np.uint8)\n",
        "\n",
        "    b, h, w = img_tensors.shape[:3]\n",
        "    ncols   = b // nrows\n",
        "    grid    = np.zeros((nrows*h, ncols*w, 3), dtype=np.uint8)\n",
        "\n",
        "    for idx, img in enumerate(img_tensors):\n",
        "        r, c = divmod(idx, ncols)\n",
        "        grid[r*h:(r+1)*h, c*w:(c+1)*w] = img\n",
        "\n",
        "    Image.fromarray(grid, mode=\"RGB\").save(f\"{filename}.jpg\")"
      ],
      "metadata": {
        "id": "ClxeiYF0YvXc"
      },
      "execution_count": null,
      "outputs": []
    },
    {
      "cell_type": "markdown",
      "source": [
        "### 1. Data"
      ],
      "metadata": {
        "id": "3TTIG3BWY0NW"
      }
    },
    {
      "cell_type": "code",
      "source": [
        "from torchvision.datasets import CIFAR10\n",
        "\n",
        "NUM_WORKERS = os.cpu_count()\n",
        "BATCH_SIZE = 32\n",
        "\n",
        "print(f'num of workers {NUM_WORKERS}')"
      ],
      "metadata": {
        "colab": {
          "base_uri": "https://localhost:8080/"
        },
        "id": "PKihAIYTY1ed",
        "outputId": "abfb651c-47dd-437c-a28d-0b5f270936bc"
      },
      "execution_count": null,
      "outputs": [
        {
          "output_type": "stream",
          "name": "stdout",
          "text": [
            "num of workers 2\n"
          ]
        }
      ]
    },
    {
      "cell_type": "code",
      "source": [
        "DATA_ROOT = \"./data\"\n",
        "\n",
        "transform  = transforms.Compose([transforms.ToTensor()])\n",
        "\n",
        "train_ds = CIFAR10(DATA_ROOT, train=True,  transform=transform, download=True)\n",
        "test_ds  = CIFAR10(DATA_ROOT, train=False, transform=transform, download=True)\n",
        "\n",
        "train_var = np.var(train_ds.data / 255.0)   # used to scale the loss\n",
        "\n",
        "train_loader = DataLoader(train_ds, batch_size=BATCH_SIZE,\n",
        "                          shuffle=True, num_workers=NUM_WORKERS)\n",
        "\n",
        "test_loader  = DataLoader(test_ds,  batch_size=BATCH_SIZE,\n",
        "                          shuffle=False, num_workers=NUM_WORKERS)"
      ],
      "metadata": {
        "id": "pyajpGGEEu96"
      },
      "execution_count": null,
      "outputs": []
    },
    {
      "cell_type": "markdown",
      "source": [
        "### 2. VQ-VAE Archeticture"
      ],
      "metadata": {
        "id": "h7StL2odYwQ2"
      }
    },
    {
      "cell_type": "markdown",
      "source": [
        "#### 2.1 Encoder"
      ],
      "metadata": {
        "id": "gOn9a1sLZGXx"
      }
    },
    {
      "cell_type": "code",
      "source": [
        "def conv_block(in_channels, out_channels, kernel_size=3, stride=1, padding=1):\n",
        "    return nn.Sequential(\n",
        "        nn.Conv2d(in_channels, out_channels, kernel_size, stride, padding),\n",
        "        nn.BatchNorm2d(out_channels),\n",
        "        nn.LeakyReLU()\n",
        "    )"
      ],
      "metadata": {
        "id": "KgcMwv3EgfpD"
      },
      "execution_count": null,
      "outputs": []
    },
    {
      "cell_type": "code",
      "source": [
        "class Encoder(nn.Module):\n",
        "\n",
        "    def __init__(self, num_channels, num_filters):\n",
        "        super().__init__()\n",
        "\n",
        "        self.encode = nn.Sequential(\n",
        "            conv_block(num_channels, num_filters*2),            # 32x32\n",
        "            conv_block(num_filters*2, num_filters*4, stride=2), # 16x16\n",
        "            conv_block(num_filters*4, num_filters*8, stride=2), # 8x8\n",
        "        )\n",
        "\n",
        "    def forward(self, input):\n",
        "        return self.encode(input)"
      ],
      "metadata": {
        "id": "1W8iQPepZHvb"
      },
      "execution_count": null,
      "outputs": []
    },
    {
      "cell_type": "markdown",
      "source": [
        "#### 2.2 Decoder"
      ],
      "metadata": {
        "id": "Hay5tQfPZH_L"
      }
    },
    {
      "cell_type": "code",
      "source": [
        "def deconv_block(in_channels, out_channels, kernel_size=3, stride=2, padding=1, output_padding=1):\n",
        "    return nn.Sequential(\n",
        "        nn.ConvTranspose2d(in_channels, out_channels, kernel_size, stride, padding, output_padding),\n",
        "        nn.BatchNorm2d(out_channels),\n",
        "        nn.ReLU()\n",
        "    )"
      ],
      "metadata": {
        "id": "4y_nt1X7go8g"
      },
      "execution_count": null,
      "outputs": []
    },
    {
      "cell_type": "code",
      "source": [
        "class Decoder(nn.Module):\n",
        "\n",
        "    def __init__(self, embedding_dim, num_filters, num_channels):\n",
        "        super().__init__()\n",
        "\n",
        "        self.decode = nn.Sequential(\n",
        "            nn.Conv2d(embedding_dim, num_filters * 8, kernel_size=1),  # 8x8\n",
        "            deconv_block(num_filters*8, num_filters*4),                # 16x16\n",
        "            conv_block(num_filters*4, num_filters*4),\n",
        "\n",
        "            deconv_block(num_filters*4, num_filters*2),                # 32x32\n",
        "            conv_block(num_filters*2, num_filters*2),\n",
        "\n",
        "            nn.Conv2d(num_filters*2, num_channels, kernel_size=3, stride=1, padding=1),\n",
        "            nn.Sigmoid()\n",
        "        )\n",
        "\n",
        "\n",
        "    def forward(self, codebook):\n",
        "        return self.decode(codebook)"
      ],
      "metadata": {
        "id": "O1Vo_AV-ZJez"
      },
      "execution_count": null,
      "outputs": []
    },
    {
      "cell_type": "markdown",
      "source": [
        "#### 2.3 Vector Quantizer"
      ],
      "metadata": {
        "id": "CaUVEy16pnYK"
      }
    },
    {
      "cell_type": "markdown",
      "source": [
        "i took the implementation of the VectorQuantizer layer and VQVAE Wrapper class from https://github.com/airalcorn2/vqvae-pytorch/blob/master/vqvae.py"
      ],
      "metadata": {
        "id": "GyWoua9oDAuU"
      }
    },
    {
      "cell_type": "code",
      "source": [
        "class SonnetExponentialMovingAverage(nn.Module):\n",
        "    # See: https://github.com/deepmind/sonnet/blob/5cbfdc356962d9b6198d5b63f0826a80acfdf35b/sonnet/src/moving_averages.py#L25.\n",
        "    # They do *not* use the exponential moving average updates described in Appendix A.1\n",
        "    # of \"Neural Discrete Representation Learning\".\n",
        "    def __init__(self, decay, shape):\n",
        "        super().__init__()\n",
        "        self.decay = decay\n",
        "        self.counter = 0\n",
        "        self.register_buffer(\"hidden\", torch.zeros(*shape))\n",
        "        self.register_buffer(\"average\", torch.zeros(*shape))\n",
        "\n",
        "    def update(self, value):\n",
        "        self.counter += 1\n",
        "        with torch.no_grad():\n",
        "            self.hidden -= (self.hidden - value) * (1 - self.decay)\n",
        "            self.average = self.hidden / (1 - self.decay ** self.counter)\n",
        "\n",
        "    def __call__(self, value):\n",
        "        self.update(value)\n",
        "        return self.average"
      ],
      "metadata": {
        "id": "OmK095ilu2zt"
      },
      "execution_count": null,
      "outputs": []
    },
    {
      "cell_type": "code",
      "source": [
        "class VectorQuantizer(nn.Module):\n",
        "    def __init__(self, embedding_dim, num_embeddings, use_ema, decay, epsilon):\n",
        "        super().__init__()\n",
        "        # See Section 3 of \"Neural Discrete Representation Learning\" and:\n",
        "        # https://github.com/deepmind/sonnet/blob/v2/sonnet/src/nets/vqvae.py#L142.\n",
        "\n",
        "        self.embedding_dim = embedding_dim\n",
        "        self.num_embeddings = num_embeddings\n",
        "        self.use_ema = use_ema\n",
        "        # Weight for the exponential moving average.\n",
        "        self.decay = decay\n",
        "        # Small constant to avoid numerical instability in embedding updates.\n",
        "        self.epsilon = epsilon\n",
        "\n",
        "        # Dictionary embeddings.\n",
        "        limit = 3 ** 0.5\n",
        "        e_i_ts = torch.FloatTensor(embedding_dim, num_embeddings).uniform_(\n",
        "            -limit, limit\n",
        "        )\n",
        "        if use_ema:\n",
        "            self.register_buffer(\"e_i_ts\", e_i_ts)\n",
        "        else:\n",
        "            self.register_parameter(\"e_i_ts\", nn.Parameter(e_i_ts))\n",
        "\n",
        "        # Exponential moving average of the cluster counts.\n",
        "        self.N_i_ts = SonnetExponentialMovingAverage(decay, (num_embeddings,))\n",
        "        # Exponential moving average of the embeddings.\n",
        "        self.m_i_ts = SonnetExponentialMovingAverage(decay, e_i_ts.shape)\n",
        "\n",
        "    def forward(self, x):\n",
        "        flat_x = x.permute(0, 2, 3, 1).contiguous().reshape(-1, self.embedding_dim)\n",
        "        \"\"\"\n",
        "        Ok here you might wonder how exactly it is better to return the C to\n",
        "        its original place instead of the pytorch default help calculations?\n",
        "        the answer is for every latent we get from the encoder we have (H*W) for every C (or kernel).\n",
        "        and performing mult and sum over the first 2 dims after the batch is better than jumping\n",
        "        right off C to get to the dim space of H and W.\n",
        "        as for .contiguous() is important after permute() because permute only changes the view of\n",
        "        the tensor, not its underlying memory layout. contiguous() ensures that the tensor is stored\n",
        "        contiguously in memory in the new order\n",
        "        \"\"\"\n",
        "        distances = (\n",
        "            (flat_x ** 2).sum(1, keepdim=True)\n",
        "            - 2 * flat_x @ self.e_i_ts\n",
        "            + (self.e_i_ts ** 2).sum(0, keepdim=True)\n",
        "        )\n",
        "        encoding_indices = distances.argmin(1)\n",
        "        quantized_x = F.embedding(\n",
        "            encoding_indices.view(x.shape[0], *x.shape[2:]), self.e_i_ts.transpose(0, 1)\n",
        "        ).permute(0, 3, 1, 2)\n",
        "\n",
        "        # See second term of Equation (3).\n",
        "        if not self.use_ema:\n",
        "            dictionary_loss = ((x.detach() - quantized_x) ** 2).mean()\n",
        "        else:\n",
        "            dictionary_loss = None\n",
        "\n",
        "        # See third term of Equation (3).\n",
        "        commitment_loss = ((x - quantized_x.detach()) ** 2).mean()\n",
        "        # Straight-through gradient. See Section 3.2.\n",
        "        quantized_x = x + (quantized_x - x).detach()\n",
        "\n",
        "        if self.use_ema and self.training:\n",
        "            with torch.no_grad():\n",
        "                # See Appendix A.1 of \"Neural Discrete Representation Learning\".\n",
        "\n",
        "                # Cluster counts.\n",
        "                encoding_one_hots = F.one_hot(\n",
        "                    encoding_indices, self.num_embeddings\n",
        "                ).type(flat_x.dtype)\n",
        "                n_i_ts = encoding_one_hots.sum(0)\n",
        "                # Updated exponential moving average of the cluster counts.\n",
        "                # See Equation (6).\n",
        "                self.N_i_ts(n_i_ts)\n",
        "\n",
        "                # Exponential moving average of the embeddings. See Equation (7).\n",
        "                embed_sums = flat_x.transpose(0, 1) @ encoding_one_hots\n",
        "                self.m_i_ts(embed_sums)\n",
        "\n",
        "                # This is kind of weird.\n",
        "                # Compare: https://github.com/deepmind/sonnet/blob/v2/sonnet/src/nets/vqvae.py#L270\n",
        "                # and Equation (8).\n",
        "                N_i_ts_sum = self.N_i_ts.average.sum()\n",
        "                N_i_ts_stable = (\n",
        "                    (self.N_i_ts.average + self.epsilon)\n",
        "                    / (N_i_ts_sum + self.num_embeddings * self.epsilon)\n",
        "                    * N_i_ts_sum\n",
        "                )\n",
        "                self.e_i_ts = self.m_i_ts.average / N_i_ts_stable.unsqueeze(0)\n",
        "\n",
        "        return (\n",
        "            quantized_x,\n",
        "            dictionary_loss,\n",
        "            commitment_loss,\n",
        "            encoding_indices.view(x.shape[0], -1),\n",
        "        )"
      ],
      "metadata": {
        "id": "aA72WUELpqfv"
      },
      "execution_count": null,
      "outputs": []
    },
    {
      "cell_type": "markdown",
      "source": [
        "#### 2.4 VQVAE"
      ],
      "metadata": {
        "id": "e4Sjp7ldZJ8S"
      }
    },
    {
      "cell_type": "code",
      "source": [
        "#@title I simplified the implementation of the original code\n",
        "class VQVAE(nn.Module):\n",
        "    def __init__(\n",
        "        self,\n",
        "        num_channels,\n",
        "        num_filters,\n",
        "        embedding_dim,\n",
        "        num_embeddings,\n",
        "        use_ema,\n",
        "        decay,\n",
        "        epsilon,\n",
        "    ):\n",
        "        super().__init__()\n",
        "        self.encoder = Encoder(\n",
        "            num_channels,\n",
        "            num_filters,\n",
        "        )\n",
        "        self.pre_vq_conv = nn.Conv2d(\n",
        "            in_channels=num_filters*8 ,out_channels=embedding_dim, kernel_size=1\n",
        "        )\n",
        "        self.vq = VectorQuantizer(\n",
        "            embedding_dim, num_embeddings, use_ema, decay, epsilon\n",
        "        )\n",
        "        self.decoder = Decoder(\n",
        "            embedding_dim,\n",
        "            num_filters,\n",
        "            num_channels,\n",
        "        )\n",
        "\n",
        "    def quantize(self, x):\n",
        "        z = self.pre_vq_conv(self.encoder(x))\n",
        "        (z_quantized, dictionary_loss, commitment_loss, encoding_indices) = self.vq(z)\n",
        "        return (z_quantized, dictionary_loss, commitment_loss, encoding_indices)\n",
        "\n",
        "    def forward(self, x):\n",
        "        (z_quantized, dictionary_loss, commitment_loss, _) = self.quantize(x)\n",
        "        x_recon = self.decoder(z_quantized)\n",
        "        return {\n",
        "            \"dictionary_loss\": dictionary_loss,\n",
        "            \"commitment_loss\": commitment_loss,\n",
        "            \"x_recon\": x_recon,\n",
        "        }"
      ],
      "metadata": {
        "id": "Esv6mUD6Yv9p"
      },
      "execution_count": null,
      "outputs": []
    },
    {
      "cell_type": "markdown",
      "source": [
        "### 3. Training"
      ],
      "metadata": {
        "id": "aq2ReFOBHugn"
      }
    },
    {
      "cell_type": "code",
      "source": [
        "DEVICE = torch.device(\"cuda:0\" if torch.cuda.is_available() else \"cpu\")\n",
        "\n",
        "HPARAMS = dict(\n",
        "    num_channels   = 3,        # RGB\n",
        "    num_filters    = 128,      # base channel‐width\n",
        "    embedding_dim  = 64,\n",
        "    num_embeddings = 512,\n",
        "    use_ema        = True,\n",
        "    decay          = 0.99,\n",
        "    epsilon        = 1e-5,\n",
        ")\n",
        "\n",
        "model = VQVAE(**HPARAMS).to(DEVICE)\n",
        "\n",
        "# optimizer & loss\n",
        "LR         = 3e-4\n",
        "BETA       = 0.25                     # commitment-loss weight\n",
        "optimizer  = optim.Adam(model.parameters(), lr=LR)\n",
        "mse_loss   = nn.MSELoss()"
      ],
      "metadata": {
        "id": "v3Cmz0fGDSaD"
      },
      "execution_count": null,
      "outputs": []
    },
    {
      "cell_type": "code",
      "source": [
        "def train_vqvae(model, loader, optimizer, mse_loss, beta, data_var,\n",
        "                epochs=7, eval_every=100, device=\"cuda\"):\n",
        "    model.train()\n",
        "    global_step = 0\n",
        "    best_loss   = float(\"inf\")\n",
        "\n",
        "    for epoch in range(epochs):\n",
        "        running_loss, running_recon = 0.0, 0.0\n",
        "        for batch_idx, (imgs, _) in enumerate(loader, 1):\n",
        "            imgs = imgs.to(device)\n",
        "\n",
        "            optimizer.zero_grad()\n",
        "            out  = model(imgs)\n",
        "\n",
        "            recon_err = mse_loss(out[\"x_recon\"], imgs) / data_var\n",
        "            loss      = recon_err + beta * out[\"commitment_loss\"]\n",
        "            if not model.vq.use_ema:\n",
        "                loss += out[\"dictionary_loss\"]\n",
        "\n",
        "            loss.backward()\n",
        "            optimizer.step()\n",
        "\n",
        "            running_loss  += loss.item()\n",
        "            running_recon += recon_err.item()\n",
        "            global_step   += 1\n",
        "\n",
        "            if batch_idx % eval_every == 0:\n",
        "                mean_loss  = running_loss  / eval_every\n",
        "                mean_recon = running_recon / eval_every\n",
        "                best_loss  = min(best_loss, mean_loss)\n",
        "\n",
        "                print(f\"Epoch {epoch} | Step {global_step} \"\n",
        "                      f\"| loss {mean_loss:.4f}  (best {best_loss:.4f}) \"\n",
        "                      f\"| recon {mean_recon:.4f}\")\n",
        "\n",
        "                running_loss = running_recon = 0.0\n"
      ],
      "metadata": {
        "id": "VPLm30meI3ta"
      },
      "execution_count": null,
      "outputs": []
    },
    {
      "cell_type": "code",
      "source": [
        "EPOCHS      = 7\n",
        "EVAL_EVERY  = 100\n",
        "\n",
        "train_vqvae(model,\n",
        "            train_loader,\n",
        "            optimizer,\n",
        "            mse_loss,\n",
        "            beta=BETA,\n",
        "            data_var=train_var,\n",
        "            epochs=EPOCHS,\n",
        "            eval_every=EVAL_EVERY,\n",
        "            device=DEVICE)"
      ],
      "metadata": {
        "colab": {
          "base_uri": "https://localhost:8080/"
        },
        "id": "Gle1uPfcJofM",
        "outputId": "79e4c7ed-9737-4c40-b293-bfd792d8632b"
      },
      "execution_count": null,
      "outputs": [
        {
          "output_type": "stream",
          "name": "stdout",
          "text": [
            "Epoch 0 | Step 100 | loss 0.2719  (best 0.2719) | recon 0.2443\n",
            "Epoch 0 | Step 200 | loss 0.1851  (best 0.1851) | recon 0.1532\n",
            "Epoch 0 | Step 300 | loss 0.1743  (best 0.1743) | recon 0.1409\n",
            "Epoch 0 | Step 400 | loss 0.1646  (best 0.1646) | recon 0.1322\n",
            "Epoch 0 | Step 500 | loss 0.1588  (best 0.1588) | recon 0.1281\n",
            "Epoch 0 | Step 600 | loss 0.1533  (best 0.1533) | recon 0.1242\n",
            "Epoch 0 | Step 700 | loss 0.1449  (best 0.1449) | recon 0.1170\n",
            "Epoch 0 | Step 800 | loss 0.1465  (best 0.1449) | recon 0.1195\n",
            "Epoch 0 | Step 900 | loss 0.1417  (best 0.1417) | recon 0.1156\n",
            "Epoch 0 | Step 1000 | loss 0.1379  (best 0.1379) | recon 0.1130\n",
            "Epoch 0 | Step 1100 | loss 0.1354  (best 0.1354) | recon 0.1109\n",
            "Epoch 0 | Step 1200 | loss 0.1377  (best 0.1354) | recon 0.1138\n",
            "Epoch 0 | Step 1300 | loss 0.1333  (best 0.1333) | recon 0.1101\n",
            "Epoch 0 | Step 1400 | loss 0.1283  (best 0.1283) | recon 0.1059\n",
            "Epoch 0 | Step 1500 | loss 0.1281  (best 0.1281) | recon 0.1057\n",
            "Epoch 1 | Step 1663 | loss 0.1266  (best 0.1266) | recon 0.1055\n",
            "Epoch 1 | Step 1763 | loss 0.1231  (best 0.1231) | recon 0.1022\n",
            "Epoch 1 | Step 1863 | loss 0.1208  (best 0.1208) | recon 0.1006\n",
            "Epoch 1 | Step 1963 | loss 0.1212  (best 0.1208) | recon 0.1012\n",
            "Epoch 1 | Step 2063 | loss 0.1236  (best 0.1208) | recon 0.1040\n",
            "Epoch 1 | Step 2163 | loss 0.1190  (best 0.1190) | recon 0.1002\n",
            "Epoch 1 | Step 2263 | loss 0.1175  (best 0.1175) | recon 0.0990\n",
            "Epoch 1 | Step 2363 | loss 0.1160  (best 0.1160) | recon 0.0977\n",
            "Epoch 1 | Step 2463 | loss 0.1154  (best 0.1154) | recon 0.0970\n",
            "Epoch 1 | Step 2563 | loss 0.1150  (best 0.1150) | recon 0.0972\n",
            "Epoch 1 | Step 2663 | loss 0.1123  (best 0.1123) | recon 0.0944\n",
            "Epoch 1 | Step 2763 | loss 0.1123  (best 0.1123) | recon 0.0949\n",
            "Epoch 1 | Step 2863 | loss 0.1130  (best 0.1123) | recon 0.0955\n",
            "Epoch 1 | Step 2963 | loss 0.1093  (best 0.1093) | recon 0.0920\n",
            "Epoch 1 | Step 3063 | loss 0.1082  (best 0.1082) | recon 0.0914\n",
            "Epoch 2 | Step 3226 | loss 0.1062  (best 0.1062) | recon 0.0890\n",
            "Epoch 2 | Step 3326 | loss 0.1079  (best 0.1062) | recon 0.0915\n",
            "Epoch 2 | Step 3426 | loss 0.1074  (best 0.1062) | recon 0.0910\n",
            "Epoch 2 | Step 3526 | loss 0.1019  (best 0.1019) | recon 0.0863\n",
            "Epoch 2 | Step 3626 | loss 0.1060  (best 0.1019) | recon 0.0898\n",
            "Epoch 2 | Step 3726 | loss 0.1060  (best 0.1019) | recon 0.0900\n",
            "Epoch 2 | Step 3826 | loss 0.1078  (best 0.1019) | recon 0.0918\n",
            "Epoch 2 | Step 3926 | loss 0.1021  (best 0.1019) | recon 0.0869\n",
            "Epoch 2 | Step 4026 | loss 0.1033  (best 0.1019) | recon 0.0875\n",
            "Epoch 2 | Step 4126 | loss 0.1039  (best 0.1019) | recon 0.0886\n",
            "Epoch 2 | Step 4226 | loss 0.1007  (best 0.1007) | recon 0.0857\n",
            "Epoch 2 | Step 4326 | loss 0.1000  (best 0.1000) | recon 0.0851\n",
            "Epoch 2 | Step 4426 | loss 0.1033  (best 0.1000) | recon 0.0879\n",
            "Epoch 2 | Step 4526 | loss 0.1003  (best 0.1000) | recon 0.0851\n",
            "Epoch 2 | Step 4626 | loss 0.1014  (best 0.1000) | recon 0.0866\n",
            "Epoch 3 | Step 4789 | loss 0.0971  (best 0.0971) | recon 0.0826\n",
            "Epoch 3 | Step 4889 | loss 0.1009  (best 0.0971) | recon 0.0862\n",
            "Epoch 3 | Step 4989 | loss 0.0962  (best 0.0962) | recon 0.0816\n",
            "Epoch 3 | Step 5089 | loss 0.0959  (best 0.0959) | recon 0.0811\n",
            "Epoch 3 | Step 5189 | loss 0.0986  (best 0.0959) | recon 0.0841\n",
            "Epoch 3 | Step 5289 | loss 0.0992  (best 0.0959) | recon 0.0842\n",
            "Epoch 3 | Step 5389 | loss 0.0985  (best 0.0959) | recon 0.0840\n",
            "Epoch 3 | Step 5489 | loss 0.0928  (best 0.0928) | recon 0.0788\n",
            "Epoch 3 | Step 5589 | loss 0.0937  (best 0.0928) | recon 0.0797\n",
            "Epoch 3 | Step 5689 | loss 0.0943  (best 0.0928) | recon 0.0802\n",
            "Epoch 3 | Step 5789 | loss 0.0964  (best 0.0928) | recon 0.0819\n",
            "Epoch 3 | Step 5889 | loss 0.0947  (best 0.0928) | recon 0.0808\n",
            "Epoch 3 | Step 5989 | loss 0.0921  (best 0.0921) | recon 0.0785\n",
            "Epoch 3 | Step 6089 | loss 0.0940  (best 0.0921) | recon 0.0801\n",
            "Epoch 3 | Step 6189 | loss 0.0958  (best 0.0921) | recon 0.0817\n",
            "Epoch 4 | Step 6352 | loss 0.0936  (best 0.0921) | recon 0.0798\n",
            "Epoch 4 | Step 6452 | loss 0.0923  (best 0.0921) | recon 0.0786\n",
            "Epoch 4 | Step 6552 | loss 0.0930  (best 0.0921) | recon 0.0792\n",
            "Epoch 4 | Step 6652 | loss 0.0892  (best 0.0892) | recon 0.0757\n",
            "Epoch 4 | Step 6752 | loss 0.0909  (best 0.0892) | recon 0.0771\n",
            "Epoch 4 | Step 6852 | loss 0.0888  (best 0.0888) | recon 0.0754\n",
            "Epoch 4 | Step 6952 | loss 0.0953  (best 0.0888) | recon 0.0808\n",
            "Epoch 4 | Step 7052 | loss 0.0903  (best 0.0888) | recon 0.0768\n",
            "Epoch 4 | Step 7152 | loss 0.0882  (best 0.0882) | recon 0.0748\n",
            "Epoch 4 | Step 7252 | loss 0.0951  (best 0.0882) | recon 0.0810\n",
            "Epoch 4 | Step 7352 | loss 0.0927  (best 0.0882) | recon 0.0789\n",
            "Epoch 4 | Step 7452 | loss 0.0927  (best 0.0882) | recon 0.0791\n",
            "Epoch 4 | Step 7552 | loss 0.0904  (best 0.0882) | recon 0.0768\n",
            "Epoch 4 | Step 7652 | loss 0.0903  (best 0.0882) | recon 0.0766\n",
            "Epoch 4 | Step 7752 | loss 0.0894  (best 0.0882) | recon 0.0758\n",
            "Epoch 5 | Step 7915 | loss 0.0887  (best 0.0882) | recon 0.0753\n",
            "Epoch 5 | Step 8015 | loss 0.0895  (best 0.0882) | recon 0.0758\n",
            "Epoch 5 | Step 8115 | loss 0.0900  (best 0.0882) | recon 0.0763\n",
            "Epoch 5 | Step 8215 | loss 0.0897  (best 0.0882) | recon 0.0761\n",
            "Epoch 5 | Step 8315 | loss 0.0908  (best 0.0882) | recon 0.0769\n",
            "Epoch 5 | Step 8415 | loss 0.0898  (best 0.0882) | recon 0.0756\n",
            "Epoch 5 | Step 8515 | loss 0.0893  (best 0.0882) | recon 0.0757\n",
            "Epoch 5 | Step 8615 | loss 0.0886  (best 0.0882) | recon 0.0750\n",
            "Epoch 5 | Step 8715 | loss 0.0918  (best 0.0882) | recon 0.0776\n",
            "Epoch 5 | Step 8815 | loss 0.0919  (best 0.0882) | recon 0.0777\n",
            "Epoch 5 | Step 8915 | loss 0.0889  (best 0.0882) | recon 0.0752\n",
            "Epoch 5 | Step 9015 | loss 0.0887  (best 0.0882) | recon 0.0747\n",
            "Epoch 5 | Step 9115 | loss 0.0927  (best 0.0882) | recon 0.0785\n",
            "Epoch 5 | Step 9215 | loss 0.0875  (best 0.0875) | recon 0.0738\n",
            "Epoch 5 | Step 9315 | loss 0.0870  (best 0.0870) | recon 0.0733\n",
            "Epoch 6 | Step 9478 | loss 0.0873  (best 0.0870) | recon 0.0735\n",
            "Epoch 6 | Step 9578 | loss 0.0899  (best 0.0870) | recon 0.0758\n",
            "Epoch 6 | Step 9678 | loss 0.0901  (best 0.0870) | recon 0.0761\n",
            "Epoch 6 | Step 9778 | loss 0.0877  (best 0.0870) | recon 0.0740\n",
            "Epoch 6 | Step 9878 | loss 0.0886  (best 0.0870) | recon 0.0747\n",
            "Epoch 6 | Step 9978 | loss 0.0871  (best 0.0870) | recon 0.0732\n",
            "Epoch 6 | Step 10078 | loss 0.0885  (best 0.0870) | recon 0.0740\n",
            "Epoch 6 | Step 10178 | loss 0.0883  (best 0.0870) | recon 0.0742\n",
            "Epoch 6 | Step 10278 | loss 0.0865  (best 0.0865) | recon 0.0725\n",
            "Epoch 6 | Step 10378 | loss 0.0877  (best 0.0865) | recon 0.0737\n",
            "Epoch 6 | Step 10478 | loss 0.0873  (best 0.0865) | recon 0.0734\n",
            "Epoch 6 | Step 10578 | loss 0.0890  (best 0.0865) | recon 0.0748\n",
            "Epoch 6 | Step 10678 | loss 0.0860  (best 0.0860) | recon 0.0722\n",
            "Epoch 6 | Step 10778 | loss 0.0852  (best 0.0852) | recon 0.0714\n",
            "Epoch 6 | Step 10878 | loss 0.0864  (best 0.0852) | recon 0.0723\n"
          ]
        }
      ]
    },
    {
      "cell_type": "code",
      "source": [
        "#@title loading the model I trained\n",
        "import gdown\n",
        "file_id = \"1zl7Ct4NUkSwVjgt0v666ag42EgkY6V1D\"\n",
        "output_path = \"vqvae_cifar10_pretrained.pt\"\n",
        "\n",
        "gdown.download(f\"https://drive.google.com/uc?id={file_id}\", output_path, quiet=False)\n",
        "\n",
        "HPARAMS = dict(\n",
        "    num_channels   = 3,\n",
        "    num_filters    = 128,\n",
        "    embedding_dim  = 64,\n",
        "    num_embeddings = 512,\n",
        "    use_ema        = True,\n",
        "    decay          = 0.99,\n",
        "    epsilon        = 1e-5,\n",
        ")\n",
        "\n",
        "DEVICE = torch.device(\"cuda\" if torch.cuda.is_available() else \"cpu\")\n",
        "model = VQVAE(**HPARAMS).to(DEVICE)\n",
        "model.load_state_dict(torch.load(output_path, map_location=DEVICE))\n",
        "model.eval()"
      ],
      "metadata": {
        "colab": {
          "base_uri": "https://localhost:8080/"
        },
        "collapsed": true,
        "cellView": "form",
        "id": "Jh3aYkuaZa3Z",
        "outputId": "f11cd434-bced-4509-e1f7-4e1262d4bca6"
      },
      "execution_count": null,
      "outputs": [
        {
          "output_type": "stream",
          "name": "stderr",
          "text": [
            "Downloading...\n",
            "From (original): https://drive.google.com/uc?id=1zl7Ct4NUkSwVjgt0v666ag42EgkY6V1D\n",
            "From (redirected): https://drive.google.com/uc?id=1zl7Ct4NUkSwVjgt0v666ag42EgkY6V1D&confirm=t&uuid=c9d1d929-140e-4e03-8d27-9cc293db2f22\n",
            "To: /content/vqvae_cifar10_pretrained.pt\n",
            "100%|██████████| 60.1M/60.1M [00:00<00:00, 105MB/s]\n"
          ]
        },
        {
          "output_type": "execute_result",
          "data": {
            "text/plain": [
              "VQVAE(\n",
              "  (encoder): Encoder(\n",
              "    (encode): Sequential(\n",
              "      (0): Sequential(\n",
              "        (0): Conv2d(3, 256, kernel_size=(3, 3), stride=(1, 1), padding=(1, 1))\n",
              "        (1): BatchNorm2d(256, eps=1e-05, momentum=0.1, affine=True, track_running_stats=True)\n",
              "        (2): LeakyReLU(negative_slope=0.01)\n",
              "      )\n",
              "      (1): Sequential(\n",
              "        (0): Conv2d(256, 512, kernel_size=(3, 3), stride=(2, 2), padding=(1, 1))\n",
              "        (1): BatchNorm2d(512, eps=1e-05, momentum=0.1, affine=True, track_running_stats=True)\n",
              "        (2): LeakyReLU(negative_slope=0.01)\n",
              "      )\n",
              "      (2): Sequential(\n",
              "        (0): Conv2d(512, 1024, kernel_size=(3, 3), stride=(2, 2), padding=(1, 1))\n",
              "        (1): BatchNorm2d(1024, eps=1e-05, momentum=0.1, affine=True, track_running_stats=True)\n",
              "        (2): LeakyReLU(negative_slope=0.01)\n",
              "      )\n",
              "    )\n",
              "  )\n",
              "  (pre_vq_conv): Conv2d(1024, 64, kernel_size=(1, 1), stride=(1, 1))\n",
              "  (vq): VectorQuantizer(\n",
              "    (N_i_ts): SonnetExponentialMovingAverage()\n",
              "    (m_i_ts): SonnetExponentialMovingAverage()\n",
              "  )\n",
              "  (decoder): Decoder(\n",
              "    (decode): Sequential(\n",
              "      (0): Conv2d(64, 1024, kernel_size=(1, 1), stride=(1, 1))\n",
              "      (1): Sequential(\n",
              "        (0): ConvTranspose2d(1024, 512, kernel_size=(3, 3), stride=(2, 2), padding=(1, 1), output_padding=(1, 1))\n",
              "        (1): BatchNorm2d(512, eps=1e-05, momentum=0.1, affine=True, track_running_stats=True)\n",
              "        (2): ReLU()\n",
              "      )\n",
              "      (2): Sequential(\n",
              "        (0): Conv2d(512, 512, kernel_size=(3, 3), stride=(1, 1), padding=(1, 1))\n",
              "        (1): BatchNorm2d(512, eps=1e-05, momentum=0.1, affine=True, track_running_stats=True)\n",
              "        (2): LeakyReLU(negative_slope=0.01)\n",
              "      )\n",
              "      (3): Sequential(\n",
              "        (0): ConvTranspose2d(512, 256, kernel_size=(3, 3), stride=(2, 2), padding=(1, 1), output_padding=(1, 1))\n",
              "        (1): BatchNorm2d(256, eps=1e-05, momentum=0.1, affine=True, track_running_stats=True)\n",
              "        (2): ReLU()\n",
              "      )\n",
              "      (4): Sequential(\n",
              "        (0): Conv2d(256, 256, kernel_size=(3, 3), stride=(1, 1), padding=(1, 1))\n",
              "        (1): BatchNorm2d(256, eps=1e-05, momentum=0.1, affine=True, track_running_stats=True)\n",
              "        (2): LeakyReLU(negative_slope=0.01)\n",
              "      )\n",
              "      (5): Conv2d(256, 3, kernel_size=(3, 3), stride=(1, 1), padding=(1, 1))\n",
              "      (6): Sigmoid()\n",
              "    )\n",
              "  )\n",
              ")"
            ]
          },
          "metadata": {},
          "execution_count": 53
        }
      ]
    },
    {
      "cell_type": "code",
      "source": [
        "model.eval()\n",
        "with torch.no_grad():\n",
        "    sample_imgs, _ = next(iter(test_loader))\n",
        "    sample_imgs    = sample_imgs.to(DEVICE)\n",
        "    recon_imgs     = model(sample_imgs)[\"x_recon\"]\n",
        "\n",
        "save_img_grid(sample_imgs, nrows=4, filename=\"true\")\n",
        "save_img_grid(recon_imgs,  nrows=4, filename=\"recon\")\n",
        "print(\"Saved 'true.jpg' and 'recon.jpg'.\")"
      ],
      "metadata": {
        "colab": {
          "base_uri": "https://localhost:8080/"
        },
        "id": "iMUolyQ5KBAh",
        "outputId": "50770840-30a0-4e9a-84aa-5c727bb14ed3"
      },
      "execution_count": null,
      "outputs": [
        {
          "output_type": "stream",
          "name": "stdout",
          "text": [
            "Saved 'true.jpg' and 'recon.jpg'.\n"
          ]
        }
      ]
    },
    {
      "cell_type": "code",
      "source": [
        "print(\"Original:\")\n",
        "display(IPImage(\"true.jpg\"))\n",
        "print(\"Reconstruction:\")\n",
        "display(IPImage(\"recon.jpg\"))"
      ],
      "metadata": {
        "colab": {
          "base_uri": "https://localhost:8080/",
          "height": 308
        },
        "id": "lY2yaTrqWuLR",
        "outputId": "5382073d-fe40-45f3-cb95-191c11b96682"
      },
      "execution_count": null,
      "outputs": [
        {
          "output_type": "stream",
          "name": "stdout",
          "text": [
            "Original:\n"
          ]
        },
        {
          "output_type": "display_data",
          "data": {
            "image/jpeg": "[encoded data removed]",
            "text/plain": [
              "<IPython.core.display.Image object>"
            ]
          },
          "metadata": {}
        },
        {
          "output_type": "stream",
          "name": "stdout",
          "text": [
            "Reconstruction:\n"
          ]
        },
        {
          "output_type": "display_data",
          "data": {
            "image/jpeg": "[encoded data removed]",
            "text/plain": [
              "<IPython.core.display.Image object>"
            ]
          },
          "metadata": {}
        }
      ]
    },
    {
      "cell_type": "code",
      "source": [
        "#@title one image for clarity\n",
        "model.eval()\n",
        "with torch.no_grad():\n",
        "    sample_imgs, _ = next(iter(test_loader))\n",
        "    sample_imgs = sample_imgs.to(DEVICE)\n",
        "    recon_imgs  = model(sample_imgs)[\"x_recon\"]\n",
        "\n",
        "idx = 5\n",
        "input_img = sample_imgs[idx].cpu().permute(1, 2, 0).clamp(0, 1)\n",
        "recon_img = recon_imgs[idx].cpu().permute(1, 2, 0).clamp(0, 1)\n",
        "\n",
        "plt.figure(figsize=(8, 4))\n",
        "plt.subplot(1, 2, 1)\n",
        "plt.imshow(input_img)\n",
        "plt.title(\"Original\")\n",
        "plt.axis(\"off\")\n",
        "\n",
        "plt.subplot(1, 2, 2)\n",
        "plt.imshow(recon_img)\n",
        "plt.title(\"Reconstruction\")\n",
        "plt.axis(\"off\")\n",
        "\n",
        "plt.tight_layout()\n",
        "plt.show()"
      ],
      "metadata": {
        "colab": {
          "base_uri": "https://localhost:8080/",
          "height": 420
        },
        "cellView": "form",
        "id": "k7xZORjPeCfu",
        "outputId": "2805a550-f7e0-4ec3-eab9-879c7cd9d902"
      },
      "execution_count": null,
      "outputs": [
        {
          "output_type": "display_data",
          "data": {
            "text/plain": [
              "<Figure size 800x400 with 2 Axes>"
            ],
            "image/png": "[encoded data removed]"
          },
          "metadata": {}
        }
      ]
    }
  ]
}