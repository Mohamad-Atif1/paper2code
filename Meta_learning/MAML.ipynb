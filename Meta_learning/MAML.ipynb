{
  "nbformat": 4,
  "nbformat_minor": 0,
  "metadata": {
    "colab": {
      "provenance": [],
      "gpuType": "T4",
      "authorship_tag": "ABX9TyOEvM4DmLmWA7iAUIDMd88j",
      "include_colab_link": true
    },
    "kernelspec": {
      "name": "python3",
      "display_name": "Python 3"
    },
    "language_info": {
      "name": "python"
    },
    "accelerator": "GPU"
  },
  "cells": [
    {
      "cell_type": "markdown",
      "metadata": {
        "id": "view-in-github",
        "colab_type": "text"
      },
      "source": [
        "<a href=\"https://colab.research.google.com/github/Mohamad-Atif1/paper2code/blob/main/Meta_learning/MAML.ipynb\" target=\"_parent\"><img src=\"https://colab.research.google.com/assets/colab-badge.svg\" alt=\"Open In Colab\"/></a>"
      ]
    },
    {
      "cell_type": "markdown",
      "source": [
        "# **Meta learning background**\n",
        "\n",
        "Meta-learning, also known as “learning to learn,” is a subfield of machine learning that aims to develop models capable of quickly adapting to new tasks using only a small amount of data. The main idea is to train models that can generalize knowledge from previously seen tasks, enabling fast learning on unseen but related tasks.\n",
        "\n",
        "In typical supervised machine learning problems, we aim to create a model that performs well on a single task, so we train the model on that task and evaluate it on the same task. In contrast, meta-learning aims to train a model that can quickly adapt to many new tasks, so we train the model on a set of tasks and test it on entirely new, unseen tasks! Usually, you would only need to pass a few examples like 5 to 15.\n",
        "\n",
        "In the following sections, we will explore how to train such models by implementing [MAML (Model-Agnostic Meta-Learning)](https://arxiv.org/abs/1703.03400). But before that, let’s clarify some important terminology"
      ],
      "metadata": {
        "id": "xJuvw2044zUy"
      }
    },
    {
      "cell_type": "markdown",
      "source": [
        "\n",
        "## **Terminology**\n",
        "In supervised machine learning, we have a **dataset**  $𝒟 =\\{(x,y)_k\\}$ which is a set of pairs of inputs and outputs (i.e., features and labels). We aim to minimize the loss which is typically the negative log likelihood $ \\operatorname{argmin} _θ ℒ(θ,𝒟)$\n",
        "\n",
        "In meta-learning, we have a multiple tasks that are sampled from a **task distribution** $p(𝛵)$. Task is a dataset with its loss $𝛵 = \\{𝒟,ℒ\\}  $. Typically, each task is divided into a support set $𝒟^{tr}$ (used for adaptation) and a query set $𝒟^{test}$ (used for evaluation). In the few-shot setting, this is often described as N-way K-shot: each task is an N-class classification problem with K labeled examples per class in the support set, where both the features and their labels are used to adapt the model to the task . The query set contains additional labeled examples from those N classes; during evaluation, the model receives only the query features, and the labels are used to measure performance after adaptation. Formally, predictions are made as\n",
        "$$\n",
        "y^{ts} = f_θ(𝒟^{tr},x^{ts})\n",
        "$$\n",
        "\n",
        "The goal is to find a learning algorithm $ϕ$ (sometimes called meta-learner or meta-parameters) that is used to find the optimal parameters $θ^*$ on unseen tasks.\n",
        "\n",
        "All terms are described in the Figure below"
      ],
      "metadata": {
        "id": "iFTMBvfQFrtP"
      }
    },
    {
      "cell_type": "markdown",
      "source": [
        "<img src=\"https://github.com/Mohamad-Atif1/paper2code/blob/main/Meta_learning/images/Terminology.png?raw=true\">"
      ],
      "metadata": {
        "id": "ag_B7Fu7D4-1"
      }
    },
    {
      "cell_type": "markdown",
      "source": [
        "*This figure is taken from [Chelsea B. Finn dissertation](https://ai.stanford.edu/~cbfinn/_files/dissertation.pdf#page=13.14)*\n",
        "\n",
        "\n",
        "\n",
        "---\n",
        "\n"
      ],
      "metadata": {
        "id": "WOtVo4ZrEnT3"
      }
    },
    {
      "cell_type": "markdown",
      "source": [
        "# Model Agnostic Meta Learning"
      ],
      "metadata": {
        "id": "3QE6JwN2Fdaz"
      }
    },
    {
      "cell_type": "markdown",
      "source": [
        "Model-Agnostic Meta-Learning (MAML) is an optimization-based method for few-shot learning. MAML focuses on the training process itself not on the model architecture; thats why it is called “model-agnostic” because it does not depend on any specific model architecture, it works with any model that can be trained using gradient descent. This flexibility makes MAML broadly applicable to many types of problems.\n",
        "\n"
      ],
      "metadata": {
        "id": "ARNomTzXPOLe"
      }
    },
    {
      "cell_type": "markdown",
      "source": [
        "## MAML algorithm"
      ],
      "metadata": {
        "id": "HQmqgZ_eZOKh"
      }
    },
    {
      "cell_type": "markdown",
      "source": [
        "1: Initialize Meta-Parameters $ϕ$\n",
        "\n",
        "2: Randomly select a batch of tasks from the task distribution.\n",
        "\n",
        "3: For each sampled task ($θ$ update):\n",
        "\n",
        "* Make a copy of the meta-parameters $ϕ$ (let’s call them $θ$), initially $ϕ = θ$\n",
        "\n",
        "\n",
        "* Use the support set $𝒟^{tr}$ from the current task to compute the loss with $θ$\n",
        "\n",
        "* Perform a few steps of gradient descent on $θ$ to get new parameters $θ^*$.\n",
        "\n",
        "$$\n",
        "θ^* = θ - α ∇_θℒ(𝒟^{tr},θ)\n",
        "$$\n",
        "   \n",
        "*   The final $θ$ is $θ^*$\n",
        "\n",
        "\n",
        "4: Meta-Update ($\\phi$ Update):\n",
        "\n",
        "The loss function for meta is the average loss of all tasks using $θ^*$\n",
        "\n",
        "$$\n",
        " ℒ_{meta} = \\mathbb{E}_{𝛵 \\sim p(𝛵)} \\left[\n",
        "    ℒ_{𝛵}\\left(θ^*,𝒟^{test}\n",
        "    \\right)\n",
        "\\right\n",
        "]\n",
        "$$\n",
        "\n",
        "and we update\n",
        "\n",
        "$$\n",
        "ϕ = ϕ - β ∇_ϕ ℒ_{meta}(𝒟^{tr},𝒟^{test},ϕ)\n",
        "$$\n",
        "\n",
        "\n",
        "5: Go back to Step 2 and repeat for many iterations.\n",
        "\n",
        "\n",
        "Notice that a meta-update step requires  higher-order gradients (gradient through a gradient step) since we have two updates: $θ^*$ and $ϕ$. This makes the computation quite expensive.\n",
        "One of the suggested solutions is to treat the inner update $θ^*$ as a constant for the outer update $ϕ$ to avoid higher-order derivatives. This approach is known as FOMAML. For more details, see [First-Order MAML](https://arxiv.org/abs/1803.02999)\n",
        "\n",
        "\n",
        "\n",
        "In this notebook, we will apply the original MAML algorithm on omniglot dataset\n"
      ],
      "metadata": {
        "id": "dzBEXUZzcElF"
      }
    },
    {
      "cell_type": "markdown",
      "source": [],
      "metadata": {
        "id": "TKDJZNLKJdeq"
      }
    },
    {
      "cell_type": "markdown",
      "source": [
        "# Coding part\n"
      ],
      "metadata": {
        "id": "YNlJgtWyIjCt"
      }
    },
    {
      "cell_type": "code",
      "source": [
        "!pip install higher"
      ],
      "metadata": {
        "colab": {
          "base_uri": "https://localhost:8080/"
        },
        "id": "-daQxRS4VoSr",
        "outputId": "40237f59-e222-4abe-f99a-9509eb57012d"
      },
      "execution_count": 1,
      "outputs": [
        {
          "output_type": "stream",
          "name": "stdout",
          "text": [
            "  Attempting uninstall: nvidia-cusolver-cu12\n",
            "    Found existing installation: nvidia-cusolver-cu12 11.6.3.83\n",
            "    Uninstalling nvidia-cusolver-cu12-11.6.3.83:\n",
            "      Successfully uninstalled nvidia-cusolver-cu12-11.6.3.83\n",
            "Successfully installed higher-0.2.1 nvidia-cublas-cu12-12.4.5.8 nvidia-cuda-cupti-cu12-12.4.127 nvidia-cuda-nvrtc-cu12-12.4.127 nvidia-cuda-runtime-cu12-12.4.127 nvidia-cudnn-cu12-9.1.0.70 nvidia-cufft-cu12-11.2.1.3 nvidia-curand-cu12-10.3.5.147 nvidia-cusolver-cu12-11.6.1.9 nvidia-cusparse-cu12-12.3.1.170 nvidia-nvjitlink-cu12-12.4.127\n"
          ]
        }
      ]
    },
    {
      "cell_type": "markdown",
      "source": [
        "## Dataset"
      ],
      "metadata": {
        "id": "wveJczujIp2q"
      }
    },
    {
      "cell_type": "markdown",
      "source": [
        "Omniglot dataset:\n",
        "\n",
        "\n",
        "it is a dataset of handwritten characters from many different alphabets (like Latin, Greek, Hindi, etc.).\n",
        "It was designed for few-shot learning — each character has only 20 examples, written by different people.\n",
        "In total, it has 1,623 different characters from 50 alphabits"
      ],
      "metadata": {
        "id": "zzCEgnPHafxa"
      }
    },
    {
      "cell_type": "code",
      "source": [
        "import torchvision\n",
        "import torchvision.transforms as transforms\n",
        "from torchvision.transforms import functional as TF\n",
        "\n",
        "train_transform = transforms.Compose([\n",
        "    transforms.Grayscale(num_output_channels=1),\n",
        "    transforms.Resize((28, 28)),\n",
        "    transforms.Lambda(lambda x: TF.rotate(x, random.choice([0, 90, 180, 270]))),\n",
        "    transforms.ToTensor(),\n",
        "])\n",
        "test_transform = transforms.Compose([\n",
        "    transforms.Grayscale(num_output_channels=1),\n",
        "    transforms.Resize((28, 28)),\n",
        "    transforms.ToTensor(),\n",
        "])\n",
        "\n",
        "# Load the Omniglot dataset\n",
        "background_dataset = torchvision.datasets.Omniglot(\n",
        "    root='./', download=True,transform=train_transform, background=True\n",
        ")\n",
        "evaluation_dataset = torchvision.datasets.Omniglot(\n",
        "    root='./', download=True, transform=test_transform, background=False\n",
        ")\n",
        "\n",
        "print(f\"Number of background classes: {len(background_dataset._alphabets)}\")\n",
        "print(f\"Number of evaluation classes: {len(evaluation_dataset._alphabets)}\")\n",
        "print(f\"Number of images in background dataset: {len(background_dataset)}\")\n",
        "print(f\"Number of images in evaluation dataset: {len(evaluation_dataset)}\")\n"
      ],
      "metadata": {
        "id": "MzQqfKGrZPtx",
        "colab": {
          "base_uri": "https://localhost:8080/"
        },
        "outputId": "84886af7-bd6d-4006-d714-2322877b4575"
      },
      "execution_count": 2,
      "outputs": [
        {
          "output_type": "stream",
          "name": "stderr",
          "text": [
            "100%|██████████| 9.46M/9.46M [00:00<00:00, 416MB/s]\n",
            "100%|██████████| 6.46M/6.46M [00:00<00:00, 361MB/s]\n"
          ]
        },
        {
          "output_type": "stream",
          "name": "stdout",
          "text": [
            "Number of background classes: 30\n",
            "Number of evaluation classes: 20\n",
            "Number of images in background dataset: 19280\n",
            "Number of images in evaluation dataset: 13180\n"
          ]
        }
      ]
    },
    {
      "cell_type": "markdown",
      "source": [
        "## Task sampler"
      ],
      "metadata": {
        "id": "5oJ6za2RMep2"
      }
    },
    {
      "cell_type": "code",
      "source": [
        "import random\n",
        "from collections import defaultdict\n",
        "import torch\n",
        "\n",
        "# class_label -> list of indices\n",
        "\n",
        "class_to_indices_train = defaultdict(list)\n",
        "for idx, (img, target) in enumerate(background_dataset):\n",
        "    class_to_indices_train[target].append(idx)\n",
        "\n",
        "class_to_indices_test = defaultdict(list)\n",
        "for idx, (img, target) in enumerate(evaluation_dataset):\n",
        "    class_to_indices_test[target].append(idx)\n",
        "\n",
        "def omniglot_task_sampler(dataset, n_way=5, k_shot=1, q_query=1,train=True):\n",
        "    \"\"\"\n",
        "    Samples a single N-way K-shot classification task from the Omniglot dataset.\n",
        "\n",
        "    For each task, this function randomly selects `n_way` classes and samples\n",
        "    `k_shot` support examples and `q_query` query examples per class. It returns\n",
        "    both support and query sets as image-label pairs.\n",
        "\n",
        "    The labels are remapped on each task, starting from 0 to (n_way - 1)\n",
        "    We do not use the original labels\n",
        "    \"\"\"\n",
        "\n",
        "    class_to_indices = class_to_indices_train if train else class_to_indices_test\n",
        "\n",
        "    # Sample N classes\n",
        "    classes = random.sample(list(class_to_indices.keys()), n_way)\n",
        "\n",
        "    support_indices, query_indices = [], []\n",
        "    for c in classes:\n",
        "        indices = random.sample(class_to_indices[c], k_shot + q_query)\n",
        "        support_indices += indices[:k_shot]\n",
        "        query_indices += indices[k_shot:]\n",
        "    support_images = torch.stack([dataset[i][0] for i in support_indices])\n",
        "    support_labels = torch.tensor([i // k_shot for i in range(len(support_indices))])\n",
        "    query_images = torch.stack([dataset[i][0] for i in query_indices])\n",
        "    query_labels = torch.tensor([i // q_query for i in range(len(query_indices))])\n",
        "\n",
        "\n",
        "\n",
        "    return (support_images, support_labels), (query_images, query_labels)\n"
      ],
      "metadata": {
        "id": "SV0vwp03Y7u7"
      },
      "execution_count": 3,
      "outputs": []
    },
    {
      "cell_type": "code",
      "source": [],
      "metadata": {
        "id": "oVCwjUCLb8RC"
      },
      "execution_count": null,
      "outputs": []
    },
    {
      "cell_type": "code",
      "source": [
        "import matplotlib.pyplot as plt\n",
        "import math\n",
        "\n",
        "n_way = 5\n",
        "k_shot = 3\n",
        "q_query = 5\n",
        "\n",
        "(support_images, support_labels), (query_images, query_labels) = omniglot_task_sampler(background_dataset, n_way=n_way, k_shot=k_shot, q_query=q_query)\n",
        "\n",
        "# Display support images\n",
        "print(\"Support Images:\")\n",
        "num_support_images = len(support_images)\n",
        "cols = 10\n",
        "rows = math.ceil(num_support_images / cols)\n",
        "fig, axes = plt.subplots(rows, cols, figsize=(cols * 1.5, rows * 1.5))\n",
        "axes = axes.flatten()\n",
        "\n",
        "for i in range(num_support_images):\n",
        "    axes[i].imshow(support_images[i].squeeze(), cmap='gray')\n",
        "    axes[i].set_title(f'Label: {support_labels[i].item()}')\n",
        "    axes[i].axis('off')\n",
        "\n",
        "for j in range(num_support_images, len(axes)):\n",
        "    axes[j].axis('off')\n",
        "\n",
        "plt.tight_layout()\n",
        "plt.show()\n",
        "\n",
        "# Display query images\n",
        "print(\"\\nQuery Images:\")\n",
        "num_query_images = len(query_images)\n",
        "rows = math.ceil(num_query_images / cols)\n",
        "fig, axes = plt.subplots(rows, cols, figsize=(cols * 1.5, rows * 1.5))\n",
        "axes = axes.flatten() # Flatten the axes array for easy iteration\n",
        "\n",
        "for i in range(num_query_images):\n",
        "    axes[i].imshow(query_images[i].squeeze(), cmap='gray')\n",
        "    axes[i].set_title(f'Label: {query_labels[i].item()}')\n",
        "    axes[i].axis('off')\n",
        "\n",
        "for j in range(num_query_images, len(axes)):\n",
        "    axes[j].axis('off')\n",
        "\n",
        "plt.tight_layout()\n",
        "plt.show()"
      ],
      "metadata": {
        "colab": {
          "base_uri": "https://localhost:8080/",
          "height": 384
        },
        "id": "Ph0GMzfKa91Z",
        "outputId": "204e6ee4-5328-4982-c3f7-9185849b3f27"
      },
      "execution_count": 17,
      "outputs": [
        {
          "output_type": "stream",
          "name": "stdout",
          "text": [
            "Support Images:\n"
          ]
        },
        {
          "output_type": "display_data",
          "data": {
            "text/plain": [
              "<Figure size 1500x300 with 20 Axes>"
            ],
            "image/png": "[encoded data removed]"
          },
          "metadata": {}
        },
        {
          "output_type": "stream",
          "name": "stdout",
          "text": [
            "\n",
            "Query Images:\n"
          ]
        },
        {
          "output_type": "display_data",
          "data": {
            "text/plain": [
              "<Figure size 1500x450 with 30 Axes>"
            ],
            "image/png": "[encoded data removed]"
          },
          "metadata": {}
        }
      ]
    },
    {
      "cell_type": "markdown",
      "source": [
        "## Model"
      ],
      "metadata": {
        "id": "BQGggwpbNo0p"
      }
    },
    {
      "cell_type": "code",
      "source": [
        "import torch\n",
        "import torch.nn as nn\n",
        "import torch.nn.functional as F\n",
        "\n",
        "class OmniglotConvNet(nn.Module):\n",
        "    def __init__(self, n_way):\n",
        "        super().__init__()\n",
        "        self.encoder = nn.Sequential(\n",
        "            nn.Conv2d(1, 64, 3, padding=1), nn.BatchNorm2d(64), nn.ReLU(), nn.MaxPool2d(2),\n",
        "            nn.Conv2d(64, 64, 3, padding=1), nn.BatchNorm2d(64), nn.ReLU(), nn.MaxPool2d(2),\n",
        "            nn.Conv2d(64, 64, 3, padding=1), nn.BatchNorm2d(64), nn.ReLU(), nn.MaxPool2d(2),\n",
        "            nn.Conv2d(64, 64, 3, padding=1), nn.BatchNorm2d(64), nn.ReLU(), nn.MaxPool2d(2),\n",
        "            nn.Flatten()\n",
        "        )\n",
        "        self.classifier = nn.Linear(64 * 1 * 1, n_way)\n",
        "    def forward(self, x):\n",
        "        x = self.encoder(x)\n",
        "        return self.classifier(x)\n"
      ],
      "metadata": {
        "id": "FnO_VnlwcEHm"
      },
      "execution_count": 18,
      "outputs": []
    },
    {
      "cell_type": "markdown",
      "source": [
        "## MAML Algorithm"
      ],
      "metadata": {
        "id": "v0cLvyDnNry8"
      }
    },
    {
      "cell_type": "markdown",
      "source": [
        "As I mentioned, we will run gradients through the optimization steps ( gradient of the gradeint). But PyTorch does not track gradients through optimizer.step() by default. We will use the \"higher\" library that wraps the model and the optimizer into a functional version"
      ],
      "metadata": {
        "id": "I2odMFBYNycQ"
      }
    },
    {
      "cell_type": "code",
      "source": [
        "import torch\n",
        "import torch.nn.functional as F\n",
        "import higher\n",
        "\n",
        "def maml_step_full(\n",
        "    model,\n",
        "    train_dataset,\n",
        "    test_dataset,\n",
        "    n_way=5,\n",
        "    k_shot=1,\n",
        "    q_query=1,\n",
        "    inner_steps=1,\n",
        "    meta_batch_size=4,\n",
        "    inner_lr=0.4,\n",
        "    meta_lr=0.001,\n",
        "    eval_inner_lr=0.4,\n",
        "    eval_inner_steps=3,\n",
        "    device='cuda' if torch.cuda.is_available() else 'cpu'\n",
        "):\n",
        "    meta_optimizer = torch.optim.Adam(model.parameters(), lr=meta_lr)\n",
        "    model.train()\n",
        "    meta_optimizer.zero_grad()\n",
        "\n",
        "    meta_train_loss = 0.0\n",
        "    meta_train_acc = 0.0\n",
        "\n",
        "    for _ in range(meta_batch_size):\n",
        "        (support_images, support_labels), (query_images, query_labels) = omniglot_task_sampler(\n",
        "            train_dataset, n_way, k_shot, q_query\n",
        "        )\n",
        "        support_images, support_labels = support_images.to(device), support_labels.to(device)\n",
        "        query_images, query_labels = query_images.to(device), query_labels.to(device)\n",
        "\n",
        "\n",
        "        # This creates a differentiable copy of your model (fmodel)\n",
        "        # and a differentiable optimizer (diffopt) that tracks the update steps\n",
        "        # as part of the computation graph, allowing backpropagation\n",
        "        # and clean isolation of task-specific inner loops (copy_initial_weights=False)\n",
        "        # copy_initial_weights=False = for each task, take the orignal model\n",
        "        with higher.innerloop_ctx(model, torch.optim.SGD(model.parameters(), lr=inner_lr), copy_initial_weights=False) as (fmodel, diffopt):\n",
        "            for _ in range(inner_steps):\n",
        "                support_logits = fmodel(support_images)\n",
        "                support_loss = F.cross_entropy(support_logits, support_labels)\n",
        "                diffopt.step(support_loss)\n",
        "\n",
        "            query_logits = fmodel(query_images)\n",
        "            task_loss = F.cross_entropy(query_logits, query_labels)\n",
        "            meta_train_loss += task_loss\n",
        "\n",
        "            preds = torch.argmax(query_logits, dim=1)\n",
        "            acc = (preds == query_labels).float().mean().item()\n",
        "            meta_train_acc += acc\n",
        "\n",
        "    meta_train_loss /= meta_batch_size # Take the average of all q_tasks losses\n",
        "    meta_train_acc /= meta_batch_size\n",
        "    meta_train_loss.backward()\n",
        "    meta_optimizer.step()\n",
        "\n",
        "    # ========== Evaluation ========== #\n",
        "    meta_eval_loss = 0.0\n",
        "    meta_eval_acc = 0.0\n",
        "\n",
        "    for _ in range(meta_batch_size):\n",
        "        (support_images, support_labels), (query_images, query_labels) = omniglot_task_sampler(\n",
        "            test_dataset, n_way, k_shot, q_query,train=False\n",
        "        )\n",
        "        support_images, support_labels = support_images.to(device), support_labels.to(device)\n",
        "        query_images, query_labels = query_images.to(device), query_labels.to(device)\n",
        "\n",
        "        # No need for tracking high order gradient since we dont update the meta model\n",
        "        with higher.innerloop_ctx(model, torch.optim.SGD(model.parameters(), lr=eval_inner_lr), track_higher_grads=False,copy_initial_weights=False) as (fmodel, diffopt):\n",
        "            for _ in range(eval_inner_steps):\n",
        "                support_logits = fmodel(support_images)\n",
        "                support_loss = F.cross_entropy(support_logits, support_labels)\n",
        "                diffopt.step(support_loss)\n",
        "\n",
        "            query_logits = fmodel(query_images)\n",
        "            task_loss = F.cross_entropy(query_logits, query_labels)\n",
        "            meta_eval_loss += task_loss\n",
        "\n",
        "            preds = torch.argmax(query_logits, dim=1)\n",
        "            acc = (preds == query_labels).float().mean().item()\n",
        "            meta_eval_acc += acc\n",
        "\n",
        "    meta_eval_loss /= meta_batch_size\n",
        "    meta_eval_acc /= meta_batch_size\n",
        "\n",
        "    return {\n",
        "        \"train_loss\": meta_train_loss.item(),\n",
        "        \"train_acc\": meta_train_acc,\n",
        "        \"eval_loss\": meta_eval_loss.item(),\n",
        "        \"eval_acc\": meta_eval_acc,\n",
        "    }\n"
      ],
      "metadata": {
        "id": "5SpCwc0fUm1H"
      },
      "execution_count": 19,
      "outputs": []
    },
    {
      "cell_type": "code",
      "source": [
        "device = 'cuda' if torch.cuda.is_available() else 'cpu'\n",
        "num_steps = 60000\n",
        "model = OmniglotConvNet(n_way=5).to(device)\n",
        "for step in range(num_steps):\n",
        "    stats = maml_step_full(model, background_dataset, evaluation_dataset,q_query=15)\n",
        "    if step % 10 == 0:\n",
        "        print(f\"step: {step} [Train] Loss: {stats['train_loss']:.4f}, Acc: {stats['train_acc']:.4f} [Eval ] Loss: {stats['eval_loss']:.4f}, Acc: {stats['eval_acc']:.4f}\")"
      ],
      "metadata": {
        "colab": {
          "base_uri": "https://localhost:8080/"
        },
        "id": "orISj_00Q0Nf",
        "outputId": "0a60d31b-af29-4b33-cd6c-9ca749239478"
      },
      "execution_count": null,
      "outputs": [
        {
          "output_type": "stream",
          "name": "stdout",
          "text": [
            "step: 0 [Train] Loss: 3.4960, Acc: 0.2000 [Eval ] Loss: 3.3805, Acc: 0.3233\n",
            "step: 10 [Train] Loss: 1.5187, Acc: 0.3600 [Eval ] Loss: 3.1602, Acc: 0.3700\n",
            "step: 20 [Train] Loss: 1.3973, Acc: 0.3800 [Eval ] Loss: 2.6275, Acc: 0.3267\n",
            "step: 30 [Train] Loss: 1.2732, Acc: 0.4600 [Eval ] Loss: 2.5291, Acc: 0.4800\n",
            "step: 40 [Train] Loss: 1.2482, Acc: 0.4433 [Eval ] Loss: 2.4840, Acc: 0.4233\n",
            "step: 50 [Train] Loss: 1.1734, Acc: 0.5100 [Eval ] Loss: 1.5497, Acc: 0.5600\n",
            "step: 60 [Train] Loss: 1.3518, Acc: 0.3667 [Eval ] Loss: 2.0548, Acc: 0.3933\n",
            "step: 70 [Train] Loss: 1.1688, Acc: 0.4833 [Eval ] Loss: 1.7559, Acc: 0.5133\n",
            "step: 80 [Train] Loss: 1.2718, Acc: 0.4200 [Eval ] Loss: 1.7724, Acc: 0.6267\n",
            "step: 90 [Train] Loss: 1.0719, Acc: 0.5633 [Eval ] Loss: 2.5083, Acc: 0.4867\n",
            "step: 100 [Train] Loss: 0.9095, Acc: 0.5533 [Eval ] Loss: 2.1955, Acc: 0.5167\n",
            "step: 110 [Train] Loss: 0.9973, Acc: 0.5200 [Eval ] Loss: 2.1605, Acc: 0.5300\n",
            "step: 120 [Train] Loss: 0.9314, Acc: 0.6267 [Eval ] Loss: 1.7382, Acc: 0.4667\n",
            "step: 130 [Train] Loss: 1.1344, Acc: 0.5067 [Eval ] Loss: 2.1557, Acc: 0.4567\n",
            "step: 140 [Train] Loss: 1.0210, Acc: 0.4733 [Eval ] Loss: 1.7209, Acc: 0.5133\n",
            "step: 150 [Train] Loss: 0.9036, Acc: 0.5833 [Eval ] Loss: 2.1218, Acc: 0.4633\n",
            "step: 160 [Train] Loss: 1.0665, Acc: 0.5700 [Eval ] Loss: 1.8510, Acc: 0.5000\n",
            "step: 170 [Train] Loss: 0.9583, Acc: 0.5800 [Eval ] Loss: 1.3328, Acc: 0.6333\n",
            "step: 180 [Train] Loss: 0.7961, Acc: 0.6633 [Eval ] Loss: 1.5647, Acc: 0.5700\n",
            "step: 190 [Train] Loss: 0.8551, Acc: 0.6433 [Eval ] Loss: 1.1788, Acc: 0.6533\n",
            "step: 200 [Train] Loss: 0.7758, Acc: 0.7000 [Eval ] Loss: 1.3636, Acc: 0.5933\n",
            "step: 210 [Train] Loss: 0.9293, Acc: 0.5700 [Eval ] Loss: 1.9125, Acc: 0.5100\n",
            "step: 220 [Train] Loss: 0.9211, Acc: 0.6567 [Eval ] Loss: 0.9880, Acc: 0.6733\n",
            "step: 230 [Train] Loss: 0.7635, Acc: 0.6933 [Eval ] Loss: 1.5139, Acc: 0.6200\n",
            "step: 240 [Train] Loss: 0.7578, Acc: 0.7133 [Eval ] Loss: 1.8143, Acc: 0.6100\n",
            "step: 250 [Train] Loss: 1.0407, Acc: 0.5700 [Eval ] Loss: 1.2781, Acc: 0.6800\n",
            "step: 260 [Train] Loss: 0.9015, Acc: 0.6200 [Eval ] Loss: 1.2496, Acc: 0.6367\n",
            "step: 270 [Train] Loss: 0.7884, Acc: 0.6900 [Eval ] Loss: 1.3929, Acc: 0.5667\n",
            "step: 280 [Train] Loss: 0.6433, Acc: 0.7700 [Eval ] Loss: 0.6475, Acc: 0.7600\n",
            "step: 290 [Train] Loss: 0.7127, Acc: 0.6933 [Eval ] Loss: 1.4318, Acc: 0.6533\n",
            "step: 300 [Train] Loss: 0.8014, Acc: 0.6667 [Eval ] Loss: 1.3511, Acc: 0.6367\n",
            "step: 310 [Train] Loss: 0.6626, Acc: 0.7133 [Eval ] Loss: 1.8319, Acc: 0.6067\n",
            "step: 320 [Train] Loss: 0.5998, Acc: 0.7933 [Eval ] Loss: 1.2687, Acc: 0.6233\n",
            "step: 330 [Train] Loss: 0.6081, Acc: 0.7367 [Eval ] Loss: 1.4741, Acc: 0.6133\n",
            "step: 340 [Train] Loss: 0.6936, Acc: 0.7533 [Eval ] Loss: 1.4047, Acc: 0.6033\n",
            "step: 350 [Train] Loss: 0.7603, Acc: 0.6767 [Eval ] Loss: 1.4237, Acc: 0.6200\n",
            "step: 360 [Train] Loss: 0.9817, Acc: 0.5267 [Eval ] Loss: 1.3521, Acc: 0.7267\n",
            "step: 370 [Train] Loss: 0.5587, Acc: 0.8067 [Eval ] Loss: 2.4665, Acc: 0.5333\n",
            "step: 380 [Train] Loss: 0.5495, Acc: 0.7833 [Eval ] Loss: 1.3387, Acc: 0.6967\n",
            "step: 390 [Train] Loss: 1.1399, Acc: 0.5833 [Eval ] Loss: 1.1152, Acc: 0.6500\n",
            "step: 400 [Train] Loss: 0.7260, Acc: 0.7200 [Eval ] Loss: 0.7885, Acc: 0.7133\n",
            "step: 410 [Train] Loss: 1.0082, Acc: 0.5867 [Eval ] Loss: 1.6184, Acc: 0.5900\n",
            "step: 420 [Train] Loss: 0.7123, Acc: 0.7067 [Eval ] Loss: 2.6931, Acc: 0.5167\n",
            "step: 430 [Train] Loss: 0.7214, Acc: 0.7300 [Eval ] Loss: 1.1441, Acc: 0.7067\n",
            "step: 440 [Train] Loss: 0.6453, Acc: 0.7333 [Eval ] Loss: 1.6382, Acc: 0.6133\n",
            "step: 450 [Train] Loss: 0.8950, Acc: 0.6500 [Eval ] Loss: 0.8062, Acc: 0.7900\n",
            "step: 460 [Train] Loss: 0.8638, Acc: 0.6667 [Eval ] Loss: 1.6864, Acc: 0.7133\n",
            "step: 470 [Train] Loss: 0.6728, Acc: 0.7033 [Eval ] Loss: 0.8973, Acc: 0.7167\n",
            "step: 480 [Train] Loss: 0.6124, Acc: 0.7367 [Eval ] Loss: 2.0372, Acc: 0.5800\n",
            "step: 490 [Train] Loss: 0.7627, Acc: 0.6533 [Eval ] Loss: 1.0318, Acc: 0.7367\n",
            "step: 500 [Train] Loss: 0.7603, Acc: 0.7100 [Eval ] Loss: 0.7916, Acc: 0.7900\n",
            "step: 510 [Train] Loss: 0.7148, Acc: 0.6567 [Eval ] Loss: 1.6123, Acc: 0.6367\n",
            "step: 520 [Train] Loss: 0.7414, Acc: 0.7167 [Eval ] Loss: 1.2974, Acc: 0.6733\n",
            "step: 530 [Train] Loss: 0.7619, Acc: 0.7267 [Eval ] Loss: 0.8732, Acc: 0.7200\n",
            "step: 540 [Train] Loss: 0.5970, Acc: 0.7533 [Eval ] Loss: 0.9161, Acc: 0.7633\n",
            "step: 550 [Train] Loss: 0.6185, Acc: 0.7933 [Eval ] Loss: 1.9238, Acc: 0.6567\n",
            "step: 560 [Train] Loss: 0.5948, Acc: 0.7567 [Eval ] Loss: 0.5680, Acc: 0.7900\n",
            "step: 570 [Train] Loss: 0.5236, Acc: 0.8333 [Eval ] Loss: 1.7536, Acc: 0.5933\n",
            "step: 580 [Train] Loss: 0.6229, Acc: 0.7667 [Eval ] Loss: 0.6720, Acc: 0.7933\n",
            "step: 590 [Train] Loss: 0.6066, Acc: 0.8100 [Eval ] Loss: 0.6625, Acc: 0.7533\n",
            "step: 600 [Train] Loss: 0.6474, Acc: 0.7267 [Eval ] Loss: 1.3680, Acc: 0.6067\n",
            "step: 610 [Train] Loss: 0.5755, Acc: 0.7933 [Eval ] Loss: 1.8753, Acc: 0.6300\n",
            "step: 620 [Train] Loss: 0.5635, Acc: 0.8167 [Eval ] Loss: 0.6192, Acc: 0.8100\n",
            "step: 630 [Train] Loss: 0.9335, Acc: 0.6333 [Eval ] Loss: 0.8431, Acc: 0.8133\n",
            "step: 640 [Train] Loss: 0.8701, Acc: 0.7000 [Eval ] Loss: 0.5650, Acc: 0.7767\n",
            "step: 650 [Train] Loss: 0.7799, Acc: 0.6767 [Eval ] Loss: 1.1830, Acc: 0.6867\n",
            "step: 660 [Train] Loss: 0.7263, Acc: 0.7333 [Eval ] Loss: 1.5616, Acc: 0.6067\n",
            "step: 670 [Train] Loss: 0.7907, Acc: 0.6633 [Eval ] Loss: 0.6130, Acc: 0.7900\n",
            "step: 680 [Train] Loss: 0.7299, Acc: 0.7267 [Eval ] Loss: 1.8255, Acc: 0.5800\n",
            "step: 690 [Train] Loss: 0.5595, Acc: 0.7700 [Eval ] Loss: 1.2637, Acc: 0.7233\n",
            "step: 700 [Train] Loss: 0.3810, Acc: 0.8733 [Eval ] Loss: 1.1185, Acc: 0.7333\n",
            "step: 710 [Train] Loss: 0.8001, Acc: 0.7267 [Eval ] Loss: 1.9270, Acc: 0.6500\n",
            "step: 720 [Train] Loss: 0.5878, Acc: 0.7567 [Eval ] Loss: 1.8767, Acc: 0.6133\n",
            "step: 730 [Train] Loss: 0.5997, Acc: 0.7400 [Eval ] Loss: 0.7141, Acc: 0.8033\n",
            "step: 740 [Train] Loss: 0.4049, Acc: 0.8367 [Eval ] Loss: 1.3403, Acc: 0.6267\n",
            "step: 750 [Train] Loss: 0.4868, Acc: 0.8167 [Eval ] Loss: 1.7910, Acc: 0.6667\n",
            "step: 760 [Train] Loss: 0.5802, Acc: 0.7700 [Eval ] Loss: 0.7820, Acc: 0.7000\n",
            "step: 770 [Train] Loss: 0.6221, Acc: 0.7367 [Eval ] Loss: 0.9406, Acc: 0.7100\n",
            "step: 780 [Train] Loss: 0.7193, Acc: 0.7000 [Eval ] Loss: 1.6452, Acc: 0.6400\n",
            "step: 790 [Train] Loss: 0.5985, Acc: 0.7733 [Eval ] Loss: 0.9109, Acc: 0.7567\n",
            "step: 800 [Train] Loss: 0.6565, Acc: 0.7433 [Eval ] Loss: 0.8850, Acc: 0.7133\n",
            "step: 810 [Train] Loss: 0.5746, Acc: 0.7733 [Eval ] Loss: 1.6031, Acc: 0.6467\n",
            "step: 820 [Train] Loss: 0.6095, Acc: 0.7133 [Eval ] Loss: 1.5241, Acc: 0.7300\n",
            "step: 830 [Train] Loss: 0.5936, Acc: 0.7600 [Eval ] Loss: 1.7426, Acc: 0.6900\n",
            "step: 840 [Train] Loss: 0.6005, Acc: 0.7700 [Eval ] Loss: 0.9916, Acc: 0.8267\n",
            "step: 850 [Train] Loss: 0.4522, Acc: 0.8567 [Eval ] Loss: 0.8206, Acc: 0.8000\n",
            "step: 860 [Train] Loss: 0.6786, Acc: 0.7100 [Eval ] Loss: 0.2690, Acc: 0.9133\n",
            "step: 870 [Train] Loss: 0.5233, Acc: 0.7933 [Eval ] Loss: 1.0715, Acc: 0.8100\n",
            "step: 880 [Train] Loss: 0.5752, Acc: 0.7867 [Eval ] Loss: 0.8119, Acc: 0.7367\n",
            "step: 890 [Train] Loss: 0.7743, Acc: 0.6633 [Eval ] Loss: 0.6116, Acc: 0.7933\n",
            "step: 900 [Train] Loss: 0.5612, Acc: 0.7767 [Eval ] Loss: 0.5057, Acc: 0.7967\n",
            "step: 910 [Train] Loss: 0.7156, Acc: 0.7500 [Eval ] Loss: 1.5046, Acc: 0.6600\n",
            "step: 920 [Train] Loss: 0.6769, Acc: 0.7100 [Eval ] Loss: 0.4385, Acc: 0.8533\n",
            "step: 930 [Train] Loss: 0.6235, Acc: 0.7500 [Eval ] Loss: 1.0169, Acc: 0.7333\n",
            "step: 940 [Train] Loss: 0.6580, Acc: 0.7433 [Eval ] Loss: 0.7695, Acc: 0.7967\n",
            "step: 950 [Train] Loss: 0.7396, Acc: 0.7067 [Eval ] Loss: 0.9126, Acc: 0.7833\n",
            "step: 960 [Train] Loss: 0.7358, Acc: 0.7267 [Eval ] Loss: 0.9185, Acc: 0.6867\n",
            "step: 970 [Train] Loss: 0.5960, Acc: 0.8000 [Eval ] Loss: 1.4282, Acc: 0.7100\n",
            "step: 980 [Train] Loss: 0.4254, Acc: 0.8533 [Eval ] Loss: 1.1472, Acc: 0.7733\n",
            "step: 990 [Train] Loss: 0.7216, Acc: 0.6933 [Eval ] Loss: 0.9557, Acc: 0.7100\n",
            "step: 1000 [Train] Loss: 0.6197, Acc: 0.7733 [Eval ] Loss: 0.9272, Acc: 0.6867\n",
            "step: 1010 [Train] Loss: 0.6608, Acc: 0.7733 [Eval ] Loss: 0.4378, Acc: 0.8367\n",
            "step: 1020 [Train] Loss: 0.8642, Acc: 0.6367 [Eval ] Loss: 0.5278, Acc: 0.8167\n",
            "step: 1030 [Train] Loss: 0.4423, Acc: 0.8633 [Eval ] Loss: 1.7104, Acc: 0.7000\n",
            "step: 1040 [Train] Loss: 0.3993, Acc: 0.8633 [Eval ] Loss: 1.3403, Acc: 0.6567\n",
            "step: 1050 [Train] Loss: 0.6614, Acc: 0.7367 [Eval ] Loss: 0.4746, Acc: 0.8200\n",
            "step: 1060 [Train] Loss: 0.4770, Acc: 0.8200 [Eval ] Loss: 0.6986, Acc: 0.8233\n",
            "step: 1070 [Train] Loss: 0.5197, Acc: 0.8033 [Eval ] Loss: 0.9459, Acc: 0.7233\n",
            "step: 1080 [Train] Loss: 0.5578, Acc: 0.7767 [Eval ] Loss: 0.5541, Acc: 0.8133\n",
            "step: 1090 [Train] Loss: 0.4993, Acc: 0.8000 [Eval ] Loss: 1.2074, Acc: 0.6933\n",
            "step: 1100 [Train] Loss: 0.4372, Acc: 0.8200 [Eval ] Loss: 0.6561, Acc: 0.8133\n",
            "step: 1110 [Train] Loss: 0.6708, Acc: 0.7267 [Eval ] Loss: 0.7237, Acc: 0.7733\n",
            "step: 1120 [Train] Loss: 0.5068, Acc: 0.8233 [Eval ] Loss: 0.7906, Acc: 0.7267\n",
            "step: 1130 [Train] Loss: 0.3693, Acc: 0.9133 [Eval ] Loss: 1.1668, Acc: 0.6400\n",
            "step: 1140 [Train] Loss: 0.7123, Acc: 0.7100 [Eval ] Loss: 1.5540, Acc: 0.6967\n",
            "step: 1150 [Train] Loss: 0.5398, Acc: 0.8033 [Eval ] Loss: 0.7743, Acc: 0.7600\n",
            "step: 1160 [Train] Loss: 0.7855, Acc: 0.7167 [Eval ] Loss: 1.6686, Acc: 0.6700\n",
            "step: 1170 [Train] Loss: 0.4506, Acc: 0.8667 [Eval ] Loss: 1.8188, Acc: 0.6933\n",
            "step: 1180 [Train] Loss: 0.4827, Acc: 0.8467 [Eval ] Loss: 0.7923, Acc: 0.8000\n",
            "step: 1190 [Train] Loss: 0.5997, Acc: 0.7833 [Eval ] Loss: 0.8116, Acc: 0.7567\n",
            "step: 1200 [Train] Loss: 0.5409, Acc: 0.8133 [Eval ] Loss: 1.1017, Acc: 0.7467\n",
            "step: 1210 [Train] Loss: 0.5478, Acc: 0.8333 [Eval ] Loss: 0.5698, Acc: 0.7967\n",
            "step: 1220 [Train] Loss: 0.5530, Acc: 0.8433 [Eval ] Loss: 0.8112, Acc: 0.7300\n",
            "step: 1230 [Train] Loss: 0.6842, Acc: 0.8033 [Eval ] Loss: 1.0508, Acc: 0.7433\n",
            "step: 1240 [Train] Loss: 0.3720, Acc: 0.8667 [Eval ] Loss: 0.8382, Acc: 0.7167\n",
            "step: 1250 [Train] Loss: 0.5744, Acc: 0.7633 [Eval ] Loss: 0.5945, Acc: 0.7867\n",
            "step: 1260 [Train] Loss: 0.8900, Acc: 0.6600 [Eval ] Loss: 0.8663, Acc: 0.7500\n",
            "step: 1270 [Train] Loss: 0.3985, Acc: 0.8567 [Eval ] Loss: 1.0892, Acc: 0.7033\n",
            "step: 1280 [Train] Loss: 0.5193, Acc: 0.8033 [Eval ] Loss: 0.5581, Acc: 0.8233\n",
            "step: 1290 [Train] Loss: 0.4809, Acc: 0.7933 [Eval ] Loss: 0.6136, Acc: 0.7933\n",
            "step: 1300 [Train] Loss: 0.4609, Acc: 0.8300 [Eval ] Loss: 0.7707, Acc: 0.8133\n",
            "step: 1310 [Train] Loss: 0.4947, Acc: 0.7867 [Eval ] Loss: 0.5258, Acc: 0.7900\n",
            "step: 1320 [Train] Loss: 0.3696, Acc: 0.8500 [Eval ] Loss: 0.7191, Acc: 0.8300\n",
            "step: 1330 [Train] Loss: 0.4933, Acc: 0.8000 [Eval ] Loss: 1.0460, Acc: 0.7133\n",
            "step: 1340 [Train] Loss: 0.4719, Acc: 0.8000 [Eval ] Loss: 1.4704, Acc: 0.5967\n",
            "step: 1350 [Train] Loss: 0.3824, Acc: 0.8433 [Eval ] Loss: 0.3938, Acc: 0.8667\n",
            "step: 1360 [Train] Loss: 0.5683, Acc: 0.7767 [Eval ] Loss: 1.0114, Acc: 0.7300\n",
            "step: 1370 [Train] Loss: 0.5689, Acc: 0.7733 [Eval ] Loss: 0.5001, Acc: 0.8433\n",
            "step: 1380 [Train] Loss: 0.4950, Acc: 0.7967 [Eval ] Loss: 1.0480, Acc: 0.6333\n",
            "step: 1390 [Train] Loss: 0.5115, Acc: 0.7933 [Eval ] Loss: 0.9987, Acc: 0.7633\n",
            "step: 1400 [Train] Loss: 0.4076, Acc: 0.8533 [Eval ] Loss: 1.4997, Acc: 0.7567\n",
            "step: 1410 [Train] Loss: 0.3867, Acc: 0.8667 [Eval ] Loss: 0.2815, Acc: 0.9167\n",
            "step: 1420 [Train] Loss: 0.4473, Acc: 0.8500 [Eval ] Loss: 0.3845, Acc: 0.8800\n",
            "step: 1430 [Train] Loss: 1.1256, Acc: 0.5933 [Eval ] Loss: 0.9158, Acc: 0.8300\n",
            "step: 1440 [Train] Loss: 0.5260, Acc: 0.8233 [Eval ] Loss: 1.2584, Acc: 0.7600\n",
            "step: 1450 [Train] Loss: 0.6310, Acc: 0.7433 [Eval ] Loss: 1.3916, Acc: 0.6967\n",
            "step: 1460 [Train] Loss: 0.3548, Acc: 0.8633 [Eval ] Loss: 0.7100, Acc: 0.7833\n",
            "step: 1470 [Train] Loss: 0.3718, Acc: 0.8800 [Eval ] Loss: 0.9202, Acc: 0.8000\n",
            "step: 1480 [Train] Loss: 0.5559, Acc: 0.8467 [Eval ] Loss: 1.2189, Acc: 0.7533\n",
            "step: 1490 [Train] Loss: 0.6227, Acc: 0.7800 [Eval ] Loss: 0.6329, Acc: 0.7667\n",
            "step: 1500 [Train] Loss: 0.4086, Acc: 0.8267 [Eval ] Loss: 0.7493, Acc: 0.7933\n",
            "step: 1510 [Train] Loss: 0.4169, Acc: 0.8633 [Eval ] Loss: 0.2736, Acc: 0.9133\n",
            "step: 1520 [Train] Loss: 0.4491, Acc: 0.8400 [Eval ] Loss: 0.7227, Acc: 0.7700\n",
            "step: 1530 [Train] Loss: 0.2880, Acc: 0.8767 [Eval ] Loss: 0.6543, Acc: 0.8433\n",
            "step: 1540 [Train] Loss: 0.4118, Acc: 0.8767 [Eval ] Loss: 0.6331, Acc: 0.8533\n",
            "step: 1550 [Train] Loss: 0.3190, Acc: 0.8967 [Eval ] Loss: 0.9901, Acc: 0.7467\n",
            "step: 1560 [Train] Loss: 0.6183, Acc: 0.7867 [Eval ] Loss: 1.2135, Acc: 0.6333\n",
            "step: 1570 [Train] Loss: 0.6113, Acc: 0.7667 [Eval ] Loss: 1.5033, Acc: 0.7067\n",
            "step: 1580 [Train] Loss: 0.3906, Acc: 0.8600 [Eval ] Loss: 0.3801, Acc: 0.8600\n",
            "step: 1590 [Train] Loss: 0.3332, Acc: 0.8867 [Eval ] Loss: 0.5932, Acc: 0.7767\n",
            "step: 1600 [Train] Loss: 0.4771, Acc: 0.8433 [Eval ] Loss: 0.4027, Acc: 0.8967\n",
            "step: 1610 [Train] Loss: 0.6120, Acc: 0.7367 [Eval ] Loss: 1.0400, Acc: 0.7800\n",
            "step: 1620 [Train] Loss: 0.3618, Acc: 0.8933 [Eval ] Loss: 0.4931, Acc: 0.8300\n",
            "step: 1630 [Train] Loss: 0.4208, Acc: 0.8400 [Eval ] Loss: 1.1196, Acc: 0.8067\n",
            "step: 1640 [Train] Loss: 0.4711, Acc: 0.8167 [Eval ] Loss: 0.6653, Acc: 0.8133\n",
            "step: 1650 [Train] Loss: 0.4216, Acc: 0.8267 [Eval ] Loss: 0.8399, Acc: 0.7267\n",
            "step: 1660 [Train] Loss: 0.4452, Acc: 0.8300 [Eval ] Loss: 0.5996, Acc: 0.8233\n",
            "step: 1670 [Train] Loss: 0.3882, Acc: 0.8933 [Eval ] Loss: 0.6190, Acc: 0.7800\n",
            "step: 1680 [Train] Loss: 0.4915, Acc: 0.7933 [Eval ] Loss: 0.8028, Acc: 0.7800\n",
            "step: 1690 [Train] Loss: 0.4808, Acc: 0.8167 [Eval ] Loss: 0.5307, Acc: 0.8033\n",
            "step: 1700 [Train] Loss: 0.5105, Acc: 0.7900 [Eval ] Loss: 0.8253, Acc: 0.7533\n",
            "step: 1710 [Train] Loss: 0.3662, Acc: 0.8633 [Eval ] Loss: 0.3959, Acc: 0.8300\n",
            "step: 1720 [Train] Loss: 0.4301, Acc: 0.8600 [Eval ] Loss: 0.3103, Acc: 0.9000\n",
            "step: 1730 [Train] Loss: 0.5714, Acc: 0.8433 [Eval ] Loss: 1.1960, Acc: 0.6867\n",
            "step: 1740 [Train] Loss: 0.3479, Acc: 0.8767 [Eval ] Loss: 1.1874, Acc: 0.6833\n",
            "step: 1750 [Train] Loss: 0.7672, Acc: 0.7067 [Eval ] Loss: 0.5079, Acc: 0.8433\n",
            "step: 1760 [Train] Loss: 0.6073, Acc: 0.7867 [Eval ] Loss: 1.2140, Acc: 0.6767\n",
            "step: 1770 [Train] Loss: 0.6287, Acc: 0.7700 [Eval ] Loss: 0.8019, Acc: 0.7667\n",
            "step: 1780 [Train] Loss: 0.4767, Acc: 0.8500 [Eval ] Loss: 0.5509, Acc: 0.8233\n",
            "step: 1790 [Train] Loss: 0.4278, Acc: 0.8167 [Eval ] Loss: 0.5405, Acc: 0.8133\n",
            "step: 1800 [Train] Loss: 0.4451, Acc: 0.8300 [Eval ] Loss: 0.2835, Acc: 0.9033\n",
            "step: 1810 [Train] Loss: 0.4809, Acc: 0.7933 [Eval ] Loss: 1.1410, Acc: 0.7933\n",
            "step: 1820 [Train] Loss: 0.6080, Acc: 0.7900 [Eval ] Loss: 1.0412, Acc: 0.8167\n",
            "step: 1830 [Train] Loss: 0.3785, Acc: 0.8567 [Eval ] Loss: 0.6488, Acc: 0.7933\n",
            "step: 1840 [Train] Loss: 0.5685, Acc: 0.7833 [Eval ] Loss: 0.7962, Acc: 0.8400\n",
            "step: 1850 [Train] Loss: 0.4960, Acc: 0.8167 [Eval ] Loss: 0.6940, Acc: 0.7633\n",
            "step: 1860 [Train] Loss: 0.6588, Acc: 0.7167 [Eval ] Loss: 0.7043, Acc: 0.7900\n",
            "step: 1870 [Train] Loss: 0.3280, Acc: 0.8567 [Eval ] Loss: 1.0868, Acc: 0.7400\n",
            "step: 1880 [Train] Loss: 0.4526, Acc: 0.8500 [Eval ] Loss: 0.3914, Acc: 0.8567\n",
            "step: 1890 [Train] Loss: 0.4259, Acc: 0.8200 [Eval ] Loss: 1.2641, Acc: 0.6867\n",
            "step: 1900 [Train] Loss: 0.3564, Acc: 0.8500 [Eval ] Loss: 0.8960, Acc: 0.8067\n",
            "step: 1910 [Train] Loss: 0.5782, Acc: 0.7933 [Eval ] Loss: 1.4973, Acc: 0.7300\n",
            "step: 1920 [Train] Loss: 0.2677, Acc: 0.9200 [Eval ] Loss: 1.1501, Acc: 0.7633\n",
            "step: 1930 [Train] Loss: 0.5605, Acc: 0.8433 [Eval ] Loss: 0.9959, Acc: 0.8267\n",
            "step: 1940 [Train] Loss: 0.4484, Acc: 0.8033 [Eval ] Loss: 0.4143, Acc: 0.8300\n",
            "step: 1950 [Train] Loss: 0.3449, Acc: 0.8967 [Eval ] Loss: 1.1500, Acc: 0.7500\n",
            "step: 1960 [Train] Loss: 0.3799, Acc: 0.8733 [Eval ] Loss: 0.6638, Acc: 0.8500\n",
            "step: 1970 [Train] Loss: 0.4397, Acc: 0.8433 [Eval ] Loss: 0.4254, Acc: 0.8700\n",
            "step: 1980 [Train] Loss: 0.6239, Acc: 0.7633 [Eval ] Loss: 0.3265, Acc: 0.9067\n",
            "step: 1990 [Train] Loss: 0.5274, Acc: 0.8467 [Eval ] Loss: 0.2326, Acc: 0.9167\n",
            "step: 2000 [Train] Loss: 0.4678, Acc: 0.8300 [Eval ] Loss: 0.7562, Acc: 0.8267\n",
            "step: 2010 [Train] Loss: 0.5392, Acc: 0.7833 [Eval ] Loss: 1.2527, Acc: 0.7600\n",
            "step: 2020 [Train] Loss: 0.3360, Acc: 0.8967 [Eval ] Loss: 1.4529, Acc: 0.7800\n",
            "step: 2030 [Train] Loss: 0.7270, Acc: 0.7167 [Eval ] Loss: 0.3818, Acc: 0.8567\n",
            "step: 2040 [Train] Loss: 0.4046, Acc: 0.8433 [Eval ] Loss: 1.1054, Acc: 0.8200\n",
            "step: 2050 [Train] Loss: 0.4064, Acc: 0.8467 [Eval ] Loss: 0.8811, Acc: 0.8333\n",
            "step: 2060 [Train] Loss: 0.3614, Acc: 0.8767 [Eval ] Loss: 1.6364, Acc: 0.8033\n",
            "step: 2070 [Train] Loss: 0.4153, Acc: 0.8500 [Eval ] Loss: 0.8553, Acc: 0.8267\n",
            "step: 2080 [Train] Loss: 0.3625, Acc: 0.8567 [Eval ] Loss: 1.2219, Acc: 0.6967\n",
            "step: 2090 [Train] Loss: 0.4430, Acc: 0.7733 [Eval ] Loss: 0.4842, Acc: 0.8500\n",
            "step: 2100 [Train] Loss: 0.4306, Acc: 0.8233 [Eval ] Loss: 0.6852, Acc: 0.8400\n",
            "step: 2110 [Train] Loss: 0.3822, Acc: 0.8733 [Eval ] Loss: 1.1490, Acc: 0.6267\n",
            "step: 2120 [Train] Loss: 0.3942, Acc: 0.8400 [Eval ] Loss: 1.2606, Acc: 0.6267\n",
            "step: 2130 [Train] Loss: 0.4084, Acc: 0.8433 [Eval ] Loss: 0.9979, Acc: 0.6833\n",
            "step: 2140 [Train] Loss: 0.5886, Acc: 0.7667 [Eval ] Loss: 1.4313, Acc: 0.7333\n",
            "step: 2150 [Train] Loss: 0.4897, Acc: 0.7867 [Eval ] Loss: 0.3811, Acc: 0.8867\n",
            "step: 2160 [Train] Loss: 0.5474, Acc: 0.7767 [Eval ] Loss: 0.3901, Acc: 0.8567\n",
            "step: 2170 [Train] Loss: 0.1967, Acc: 0.9667 [Eval ] Loss: 0.4251, Acc: 0.8933\n",
            "step: 2180 [Train] Loss: 0.6387, Acc: 0.7500 [Eval ] Loss: 0.6357, Acc: 0.8267\n",
            "step: 2190 [Train] Loss: 0.7713, Acc: 0.7733 [Eval ] Loss: 0.8075, Acc: 0.7867\n",
            "step: 2200 [Train] Loss: 0.3627, Acc: 0.8533 [Eval ] Loss: 0.7166, Acc: 0.7567\n",
            "step: 2210 [Train] Loss: 0.4183, Acc: 0.8100 [Eval ] Loss: 0.5262, Acc: 0.7967\n",
            "step: 2220 [Train] Loss: 0.4571, Acc: 0.8067 [Eval ] Loss: 0.3325, Acc: 0.8700\n",
            "step: 2230 [Train] Loss: 0.2369, Acc: 0.9067 [Eval ] Loss: 0.2302, Acc: 0.9133\n",
            "step: 2240 [Train] Loss: 0.4099, Acc: 0.8333 [Eval ] Loss: 0.2841, Acc: 0.8933\n",
            "step: 2250 [Train] Loss: 0.6010, Acc: 0.7567 [Eval ] Loss: 0.6762, Acc: 0.8300\n",
            "step: 2260 [Train] Loss: 0.4737, Acc: 0.8267 [Eval ] Loss: 0.5878, Acc: 0.8467\n",
            "step: 2270 [Train] Loss: 0.3596, Acc: 0.9000 [Eval ] Loss: 0.6351, Acc: 0.8400\n",
            "step: 2280 [Train] Loss: 0.4603, Acc: 0.8233 [Eval ] Loss: 0.7098, Acc: 0.8633\n",
            "step: 2290 [Train] Loss: 0.3521, Acc: 0.9033 [Eval ] Loss: 0.3647, Acc: 0.8667\n",
            "step: 2300 [Train] Loss: 0.2754, Acc: 0.9133 [Eval ] Loss: 0.6464, Acc: 0.8200\n",
            "step: 2310 [Train] Loss: 0.3262, Acc: 0.8800 [Eval ] Loss: 0.3566, Acc: 0.8900\n",
            "step: 2320 [Train] Loss: 0.4587, Acc: 0.7933 [Eval ] Loss: 0.4518, Acc: 0.8267\n",
            "step: 2330 [Train] Loss: 0.3021, Acc: 0.8700 [Eval ] Loss: 1.3209, Acc: 0.6900\n",
            "step: 2340 [Train] Loss: 0.3684, Acc: 0.8733 [Eval ] Loss: 1.3651, Acc: 0.7767\n",
            "step: 2350 [Train] Loss: 0.3272, Acc: 0.8633 [Eval ] Loss: 0.8765, Acc: 0.7833\n",
            "step: 2360 [Train] Loss: 0.4318, Acc: 0.7900 [Eval ] Loss: 0.7631, Acc: 0.8133\n",
            "step: 2370 [Train] Loss: 0.3635, Acc: 0.8567 [Eval ] Loss: 1.1695, Acc: 0.7067\n",
            "step: 2380 [Train] Loss: 0.2861, Acc: 0.9067 [Eval ] Loss: 0.5595, Acc: 0.7900\n",
            "step: 2390 [Train] Loss: 0.4732, Acc: 0.8067 [Eval ] Loss: 0.5456, Acc: 0.8400\n",
            "step: 2400 [Train] Loss: 0.5011, Acc: 0.8133 [Eval ] Loss: 1.1026, Acc: 0.7800\n",
            "step: 2410 [Train] Loss: 0.2773, Acc: 0.9167 [Eval ] Loss: 0.3544, Acc: 0.8867\n",
            "step: 2420 [Train] Loss: 0.4100, Acc: 0.8233 [Eval ] Loss: 0.5322, Acc: 0.8333\n",
            "step: 2430 [Train] Loss: 0.6557, Acc: 0.7367 [Eval ] Loss: 1.2964, Acc: 0.7500\n",
            "step: 2440 [Train] Loss: 0.3227, Acc: 0.8667 [Eval ] Loss: 1.1790, Acc: 0.7300\n",
            "step: 2450 [Train] Loss: 0.4940, Acc: 0.8200 [Eval ] Loss: 0.8802, Acc: 0.8167\n",
            "step: 2460 [Train] Loss: 0.4158, Acc: 0.8367 [Eval ] Loss: 1.2362, Acc: 0.7400\n",
            "step: 2470 [Train] Loss: 0.3517, Acc: 0.8367 [Eval ] Loss: 0.4211, Acc: 0.8533\n",
            "step: 2480 [Train] Loss: 0.3417, Acc: 0.8667 [Eval ] Loss: 1.7992, Acc: 0.6300\n",
            "step: 2490 [Train] Loss: 0.1740, Acc: 0.9700 [Eval ] Loss: 1.0515, Acc: 0.8333\n",
            "step: 2500 [Train] Loss: 0.5903, Acc: 0.7900 [Eval ] Loss: 0.4233, Acc: 0.8667\n",
            "step: 2510 [Train] Loss: 0.2828, Acc: 0.9067 [Eval ] Loss: 1.0517, Acc: 0.7867\n",
            "step: 2520 [Train] Loss: 0.4138, Acc: 0.8567 [Eval ] Loss: 0.8134, Acc: 0.8067\n",
            "step: 2530 [Train] Loss: 0.4560, Acc: 0.8100 [Eval ] Loss: 0.3815, Acc: 0.8867\n",
            "step: 2540 [Train] Loss: 0.2616, Acc: 0.8933 [Eval ] Loss: 0.3917, Acc: 0.8767\n",
            "step: 2550 [Train] Loss: 0.4664, Acc: 0.7967 [Eval ] Loss: 0.9887, Acc: 0.8433\n",
            "step: 2560 [Train] Loss: 0.3153, Acc: 0.8733 [Eval ] Loss: 0.5411, Acc: 0.8133\n",
            "step: 2570 [Train] Loss: 0.4287, Acc: 0.8133 [Eval ] Loss: 0.2340, Acc: 0.9200\n",
            "step: 2580 [Train] Loss: 0.2891, Acc: 0.9167 [Eval ] Loss: 0.4308, Acc: 0.8667\n",
            "step: 2590 [Train] Loss: 0.2676, Acc: 0.9200 [Eval ] Loss: 2.2533, Acc: 0.6900\n",
            "step: 2600 [Train] Loss: 0.3318, Acc: 0.9033 [Eval ] Loss: 1.3243, Acc: 0.7400\n",
            "step: 2610 [Train] Loss: 0.3584, Acc: 0.8300 [Eval ] Loss: 0.3349, Acc: 0.9000\n",
            "step: 2620 [Train] Loss: 0.3763, Acc: 0.8433 [Eval ] Loss: 1.1875, Acc: 0.8033\n",
            "step: 2630 [Train] Loss: 0.5108, Acc: 0.7667 [Eval ] Loss: 0.2545, Acc: 0.9167\n",
            "step: 2640 [Train] Loss: 0.3941, Acc: 0.8567 [Eval ] Loss: 0.4160, Acc: 0.8367\n",
            "step: 2650 [Train] Loss: 0.1583, Acc: 0.9567 [Eval ] Loss: 0.6764, Acc: 0.8267\n",
            "step: 2660 [Train] Loss: 0.3690, Acc: 0.8400 [Eval ] Loss: 0.4650, Acc: 0.8167\n",
            "step: 2670 [Train] Loss: 0.4016, Acc: 0.8433 [Eval ] Loss: 1.6849, Acc: 0.6867\n",
            "step: 2680 [Train] Loss: 0.2518, Acc: 0.9200 [Eval ] Loss: 0.4887, Acc: 0.8267\n",
            "step: 2690 [Train] Loss: 0.4481, Acc: 0.8033 [Eval ] Loss: 0.5920, Acc: 0.8333\n",
            "step: 2700 [Train] Loss: 0.3692, Acc: 0.8333 [Eval ] Loss: 0.6037, Acc: 0.8367\n",
            "step: 2710 [Train] Loss: 0.2917, Acc: 0.8967 [Eval ] Loss: 0.8845, Acc: 0.7767\n",
            "step: 2720 [Train] Loss: 0.5396, Acc: 0.7900 [Eval ] Loss: 0.7752, Acc: 0.7467\n",
            "step: 2730 [Train] Loss: 0.3757, Acc: 0.8600 [Eval ] Loss: 0.6199, Acc: 0.8000\n",
            "step: 2740 [Train] Loss: 0.5811, Acc: 0.7800 [Eval ] Loss: 1.2686, Acc: 0.7933\n",
            "step: 2750 [Train] Loss: 0.2281, Acc: 0.9367 [Eval ] Loss: 0.3755, Acc: 0.8667\n",
            "step: 2760 [Train] Loss: 0.5841, Acc: 0.8000 [Eval ] Loss: 0.3817, Acc: 0.8833\n",
            "step: 2770 [Train] Loss: 0.4693, Acc: 0.7967 [Eval ] Loss: 0.3486, Acc: 0.8500\n",
            "step: 2780 [Train] Loss: 0.5325, Acc: 0.8133 [Eval ] Loss: 0.3127, Acc: 0.8933\n",
            "step: 2790 [Train] Loss: 0.2814, Acc: 0.8967 [Eval ] Loss: 1.1964, Acc: 0.7767\n",
            "step: 2800 [Train] Loss: 0.3805, Acc: 0.8567 [Eval ] Loss: 0.9633, Acc: 0.8300\n",
            "step: 2810 [Train] Loss: 0.3567, Acc: 0.8600 [Eval ] Loss: 0.3297, Acc: 0.9000\n",
            "step: 2820 [Train] Loss: 0.3388, Acc: 0.8933 [Eval ] Loss: 0.2584, Acc: 0.9233\n",
            "step: 2830 [Train] Loss: 0.4172, Acc: 0.8267 [Eval ] Loss: 0.3401, Acc: 0.9033\n",
            "step: 2840 [Train] Loss: 0.3543, Acc: 0.8933 [Eval ] Loss: 0.8506, Acc: 0.8467\n",
            "step: 2850 [Train] Loss: 0.2800, Acc: 0.8900 [Eval ] Loss: 1.1938, Acc: 0.8133\n",
            "step: 2860 [Train] Loss: 0.4977, Acc: 0.7767 [Eval ] Loss: 0.9946, Acc: 0.8567\n",
            "step: 2870 [Train] Loss: 0.1605, Acc: 0.9667 [Eval ] Loss: 0.1717, Acc: 0.9533\n",
            "step: 2880 [Train] Loss: 0.2326, Acc: 0.9033 [Eval ] Loss: 0.5144, Acc: 0.8467\n",
            "step: 2890 [Train] Loss: 0.3657, Acc: 0.8733 [Eval ] Loss: 0.7888, Acc: 0.8033\n",
            "step: 2900 [Train] Loss: 0.3708, Acc: 0.8867 [Eval ] Loss: 0.2579, Acc: 0.9267\n",
            "step: 2910 [Train] Loss: 0.3042, Acc: 0.8800 [Eval ] Loss: 0.9920, Acc: 0.7867\n",
            "step: 2920 [Train] Loss: 0.5083, Acc: 0.7967 [Eval ] Loss: 0.6678, Acc: 0.8200\n",
            "step: 2930 [Train] Loss: 0.2020, Acc: 0.9300 [Eval ] Loss: 0.8088, Acc: 0.7933\n",
            "step: 2940 [Train] Loss: 0.4284, Acc: 0.8467 [Eval ] Loss: 0.8772, Acc: 0.8867\n",
            "step: 2950 [Train] Loss: 0.2711, Acc: 0.9167 [Eval ] Loss: 0.2995, Acc: 0.9200\n",
            "step: 2960 [Train] Loss: 0.2712, Acc: 0.9200 [Eval ] Loss: 1.5276, Acc: 0.6767\n",
            "step: 2970 [Train] Loss: 0.1718, Acc: 0.9400 [Eval ] Loss: 1.4190, Acc: 0.7100\n",
            "step: 2980 [Train] Loss: 0.4236, Acc: 0.8200 [Eval ] Loss: 1.9931, Acc: 0.6700\n",
            "step: 2990 [Train] Loss: 0.2734, Acc: 0.8967 [Eval ] Loss: 0.8853, Acc: 0.8600\n",
            "step: 3000 [Train] Loss: 0.3268, Acc: 0.8700 [Eval ] Loss: 1.7782, Acc: 0.7400\n",
            "step: 3010 [Train] Loss: 0.2939, Acc: 0.9200 [Eval ] Loss: 1.0307, Acc: 0.7867\n",
            "step: 3020 [Train] Loss: 0.3812, Acc: 0.8533 [Eval ] Loss: 1.8853, Acc: 0.6600\n",
            "step: 3030 [Train] Loss: 0.3131, Acc: 0.8700 [Eval ] Loss: 0.5304, Acc: 0.7900\n",
            "step: 3040 [Train] Loss: 0.3004, Acc: 0.9100 [Eval ] Loss: 1.1163, Acc: 0.8267\n",
            "step: 3050 [Train] Loss: 0.2558, Acc: 0.9167 [Eval ] Loss: 0.4610, Acc: 0.8500\n",
            "step: 3060 [Train] Loss: 0.3000, Acc: 0.8900 [Eval ] Loss: 0.4330, Acc: 0.8667\n",
            "step: 3070 [Train] Loss: 0.1850, Acc: 0.9433 [Eval ] Loss: 0.2117, Acc: 0.9400\n",
            "step: 3080 [Train] Loss: 0.2085, Acc: 0.9433 [Eval ] Loss: 0.6804, Acc: 0.8000\n",
            "step: 3090 [Train] Loss: 0.4840, Acc: 0.8033 [Eval ] Loss: 0.7596, Acc: 0.7733\n",
            "step: 3100 [Train] Loss: 0.2355, Acc: 0.9133 [Eval ] Loss: 0.7202, Acc: 0.7633\n",
            "step: 3110 [Train] Loss: 0.2125, Acc: 0.9200 [Eval ] Loss: 1.2575, Acc: 0.7233\n",
            "step: 3120 [Train] Loss: 0.2586, Acc: 0.9133 [Eval ] Loss: 0.5590, Acc: 0.7800\n",
            "step: 3130 [Train] Loss: 0.2111, Acc: 0.9367 [Eval ] Loss: 1.0979, Acc: 0.7533\n",
            "step: 3140 [Train] Loss: 0.4283, Acc: 0.8400 [Eval ] Loss: 0.5300, Acc: 0.8200\n",
            "step: 3150 [Train] Loss: 0.2113, Acc: 0.9367 [Eval ] Loss: 0.4328, Acc: 0.8400\n",
            "step: 3160 [Train] Loss: 0.3396, Acc: 0.8933 [Eval ] Loss: 1.6432, Acc: 0.6700\n",
            "step: 3170 [Train] Loss: 0.3175, Acc: 0.8633 [Eval ] Loss: 0.2748, Acc: 0.8933\n",
            "step: 3180 [Train] Loss: 0.4693, Acc: 0.8133 [Eval ] Loss: 0.9229, Acc: 0.7567\n",
            "step: 3190 [Train] Loss: 0.3503, Acc: 0.8433 [Eval ] Loss: 0.6052, Acc: 0.8167\n",
            "step: 3200 [Train] Loss: 0.3206, Acc: 0.8467 [Eval ] Loss: 0.5866, Acc: 0.8167\n",
            "step: 3210 [Train] Loss: 0.3150, Acc: 0.9100 [Eval ] Loss: 0.3458, Acc: 0.8933\n",
            "step: 3220 [Train] Loss: 0.2454, Acc: 0.9267 [Eval ] Loss: 0.8544, Acc: 0.8533\n",
            "step: 3230 [Train] Loss: 0.2443, Acc: 0.9133 [Eval ] Loss: 1.6426, Acc: 0.7133\n",
            "step: 3240 [Train] Loss: 0.3126, Acc: 0.8700 [Eval ] Loss: 0.9447, Acc: 0.8200\n",
            "step: 3250 [Train] Loss: 0.2174, Acc: 0.9133 [Eval ] Loss: 0.4415, Acc: 0.8467\n",
            "step: 3260 [Train] Loss: 0.2112, Acc: 0.9267 [Eval ] Loss: 0.6736, Acc: 0.8600\n",
            "step: 3270 [Train] Loss: 0.1556, Acc: 0.9533 [Eval ] Loss: 1.2189, Acc: 0.7333\n",
            "step: 3280 [Train] Loss: 0.4058, Acc: 0.8700 [Eval ] Loss: 0.3638, Acc: 0.8833\n",
            "step: 3290 [Train] Loss: 0.3244, Acc: 0.8833 [Eval ] Loss: 0.3643, Acc: 0.8667\n",
            "step: 3300 [Train] Loss: 0.2400, Acc: 0.9033 [Eval ] Loss: 0.9416, Acc: 0.7700\n",
            "step: 3310 [Train] Loss: 0.2779, Acc: 0.8633 [Eval ] Loss: 0.3932, Acc: 0.8533\n",
            "step: 3320 [Train] Loss: 0.1929, Acc: 0.9433 [Eval ] Loss: 0.9431, Acc: 0.8100\n",
            "step: 3330 [Train] Loss: 0.2944, Acc: 0.8733 [Eval ] Loss: 1.1157, Acc: 0.8400\n",
            "step: 3340 [Train] Loss: 0.3457, Acc: 0.9033 [Eval ] Loss: 1.0125, Acc: 0.8433\n",
            "step: 3350 [Train] Loss: 0.3994, Acc: 0.8533 [Eval ] Loss: 0.7235, Acc: 0.8133\n",
            "step: 3360 [Train] Loss: 0.3655, Acc: 0.8500 [Eval ] Loss: 1.1494, Acc: 0.7500\n",
            "step: 3370 [Train] Loss: 0.3683, Acc: 0.8633 [Eval ] Loss: 0.3361, Acc: 0.8900\n",
            "step: 3380 [Train] Loss: 0.5271, Acc: 0.7900 [Eval ] Loss: 0.6794, Acc: 0.9000\n",
            "step: 3390 [Train] Loss: 0.5655, Acc: 0.8033 [Eval ] Loss: 0.5281, Acc: 0.8067\n",
            "step: 3400 [Train] Loss: 0.3217, Acc: 0.8767 [Eval ] Loss: 0.5166, Acc: 0.8600\n",
            "step: 3410 [Train] Loss: 0.3922, Acc: 0.8400 [Eval ] Loss: 0.8344, Acc: 0.7833\n",
            "step: 3420 [Train] Loss: 0.4088, Acc: 0.8467 [Eval ] Loss: 0.8967, Acc: 0.8133\n",
            "step: 3430 [Train] Loss: 0.4726, Acc: 0.8467 [Eval ] Loss: 0.4060, Acc: 0.8800\n",
            "step: 3440 [Train] Loss: 0.2083, Acc: 0.9133 [Eval ] Loss: 0.6435, Acc: 0.8733\n",
            "step: 3450 [Train] Loss: 0.3897, Acc: 0.8667 [Eval ] Loss: 0.7005, Acc: 0.9167\n",
            "step: 3460 [Train] Loss: 0.3847, Acc: 0.8800 [Eval ] Loss: 0.3016, Acc: 0.9033\n",
            "step: 3470 [Train] Loss: 0.3445, Acc: 0.8533 [Eval ] Loss: 0.6898, Acc: 0.8667\n",
            "step: 3480 [Train] Loss: 0.4231, Acc: 0.8300 [Eval ] Loss: 1.6870, Acc: 0.7433\n",
            "step: 3490 [Train] Loss: 0.3830, Acc: 0.8567 [Eval ] Loss: 0.9571, Acc: 0.7633\n",
            "step: 3500 [Train] Loss: 0.2598, Acc: 0.9233 [Eval ] Loss: 0.2675, Acc: 0.9167\n",
            "step: 3510 [Train] Loss: 0.5369, Acc: 0.7933 [Eval ] Loss: 0.4957, Acc: 0.8733\n",
            "step: 3520 [Train] Loss: 0.5065, Acc: 0.7767 [Eval ] Loss: 0.3637, Acc: 0.8833\n",
            "step: 3530 [Train] Loss: 0.2298, Acc: 0.9000 [Eval ] Loss: 0.7348, Acc: 0.8200\n",
            "step: 3540 [Train] Loss: 0.4702, Acc: 0.8200 [Eval ] Loss: 1.2090, Acc: 0.7700\n",
            "step: 3550 [Train] Loss: 0.3381, Acc: 0.8633 [Eval ] Loss: 0.7637, Acc: 0.8467\n",
            "step: 3560 [Train] Loss: 0.2609, Acc: 0.9267 [Eval ] Loss: 1.5777, Acc: 0.7733\n",
            "step: 3570 [Train] Loss: 0.4052, Acc: 0.8633 [Eval ] Loss: 0.2333, Acc: 0.9333\n",
            "step: 3580 [Train] Loss: 0.2638, Acc: 0.9033 [Eval ] Loss: 0.1778, Acc: 0.9567\n",
            "step: 3590 [Train] Loss: 0.1372, Acc: 0.9633 [Eval ] Loss: 0.2543, Acc: 0.9167\n",
            "step: 3600 [Train] Loss: 0.2249, Acc: 0.8967 [Eval ] Loss: 0.2271, Acc: 0.9000\n",
            "step: 3610 [Train] Loss: 0.2556, Acc: 0.9233 [Eval ] Loss: 0.8149, Acc: 0.8033\n",
            "step: 3620 [Train] Loss: 0.2411, Acc: 0.9133 [Eval ] Loss: 0.3132, Acc: 0.8833\n",
            "step: 3630 [Train] Loss: 0.2311, Acc: 0.9233 [Eval ] Loss: 0.2867, Acc: 0.8833\n",
            "step: 3640 [Train] Loss: 0.2129, Acc: 0.9367 [Eval ] Loss: 0.4601, Acc: 0.8333\n",
            "step: 3650 [Train] Loss: 0.2638, Acc: 0.9167 [Eval ] Loss: 0.2348, Acc: 0.9300\n",
            "step: 3660 [Train] Loss: 0.4964, Acc: 0.8033 [Eval ] Loss: 0.9290, Acc: 0.8100\n",
            "step: 3670 [Train] Loss: 0.3345, Acc: 0.8633 [Eval ] Loss: 0.2802, Acc: 0.9100\n",
            "step: 3680 [Train] Loss: 0.2269, Acc: 0.9167 [Eval ] Loss: 0.7157, Acc: 0.8633\n",
            "step: 3690 [Train] Loss: 0.2508, Acc: 0.8867 [Eval ] Loss: 0.2963, Acc: 0.9100\n",
            "step: 3700 [Train] Loss: 0.2314, Acc: 0.9300 [Eval ] Loss: 0.6992, Acc: 0.8400\n",
            "step: 3710 [Train] Loss: 0.3498, Acc: 0.8800 [Eval ] Loss: 0.4411, Acc: 0.8900\n",
            "step: 3720 [Train] Loss: 0.2831, Acc: 0.8833 [Eval ] Loss: 1.0536, Acc: 0.8200\n",
            "step: 3730 [Train] Loss: 0.3075, Acc: 0.9067 [Eval ] Loss: 0.7293, Acc: 0.8567\n",
            "step: 3740 [Train] Loss: 0.2368, Acc: 0.9267 [Eval ] Loss: 1.0683, Acc: 0.7600\n",
            "step: 3750 [Train] Loss: 0.4309, Acc: 0.8233 [Eval ] Loss: 0.9425, Acc: 0.7400\n",
            "step: 3760 [Train] Loss: 0.5645, Acc: 0.7800 [Eval ] Loss: 0.6507, Acc: 0.8200\n",
            "step: 3770 [Train] Loss: 0.2329, Acc: 0.9233 [Eval ] Loss: 0.3007, Acc: 0.9033\n",
            "step: 3780 [Train] Loss: 0.4661, Acc: 0.8000 [Eval ] Loss: 0.2930, Acc: 0.9167\n"
          ]
        }
      ]
    },
    {
      "cell_type": "markdown",
      "source": [
        "# References"
      ],
      "metadata": {
        "id": "IS45vAhVehMy"
      }
    },
    {
      "cell_type": "markdown",
      "source": [
        "[MAML paper](https://arxiv.org/abs/1703.03400)\n",
        "\n",
        "[Chelsea B. Finn dissertation (Learning to Learn with Gradients)](https://ai.stanford.edu/~cbfinn/_files/dissertation.pdf#page=13.14)\n",
        "\n",
        "[Meta-Learning in Neural Networks: A Survey\n",
        "](https://arxiv.org/abs/2004.05439)\n",
        "\n"
      ],
      "metadata": {
        "id": "QsvEvCH3ejXr"
      }
    }
  ]
}